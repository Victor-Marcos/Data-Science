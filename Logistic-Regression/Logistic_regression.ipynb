{
 "cells": [
  {
   "cell_type": "code",
   "execution_count": 1,
   "id": "6b0d0f2c-0810-46f1-bc6c-0ce46c80469a",
   "metadata": {},
   "outputs": [],
   "source": [
    "import matplotlib.pyplot as plt\n",
    "import numpy as np\n",
    "import seaborn as sns\n",
    "import pandas as pd"
   ]
  },
  {
   "cell_type": "code",
   "execution_count": 2,
   "id": "b908156e-2706-46d4-9ff3-53ac4c86bdca",
   "metadata": {},
   "outputs": [],
   "source": [
    "path = \"../Data science/Datasets/Social_Network_Ads.csv\""
   ]
  },
  {
   "cell_type": "code",
   "execution_count": 3,
   "id": "68ba558c-508f-45eb-b304-7d257a3061fc",
   "metadata": {},
   "outputs": [
    {
     "data": {
      "text/html": [
       "<div>\n",
       "<style scoped>\n",
       "    .dataframe tbody tr th:only-of-type {\n",
       "        vertical-align: middle;\n",
       "    }\n",
       "\n",
       "    .dataframe tbody tr th {\n",
       "        vertical-align: top;\n",
       "    }\n",
       "\n",
       "    .dataframe thead th {\n",
       "        text-align: right;\n",
       "    }\n",
       "</style>\n",
       "<table border=\"1\" class=\"dataframe\">\n",
       "  <thead>\n",
       "    <tr style=\"text-align: right;\">\n",
       "      <th></th>\n",
       "      <th>User ID</th>\n",
       "      <th>Gender</th>\n",
       "      <th>Age</th>\n",
       "      <th>EstimatedSalary</th>\n",
       "      <th>Purchased</th>\n",
       "    </tr>\n",
       "  </thead>\n",
       "  <tbody>\n",
       "    <tr>\n",
       "      <th>0</th>\n",
       "      <td>15624510</td>\n",
       "      <td>Male</td>\n",
       "      <td>19</td>\n",
       "      <td>19000</td>\n",
       "      <td>0</td>\n",
       "    </tr>\n",
       "    <tr>\n",
       "      <th>1</th>\n",
       "      <td>15810944</td>\n",
       "      <td>Male</td>\n",
       "      <td>35</td>\n",
       "      <td>20000</td>\n",
       "      <td>0</td>\n",
       "    </tr>\n",
       "    <tr>\n",
       "      <th>2</th>\n",
       "      <td>15668575</td>\n",
       "      <td>Female</td>\n",
       "      <td>26</td>\n",
       "      <td>43000</td>\n",
       "      <td>0</td>\n",
       "    </tr>\n",
       "    <tr>\n",
       "      <th>3</th>\n",
       "      <td>15603246</td>\n",
       "      <td>Female</td>\n",
       "      <td>27</td>\n",
       "      <td>57000</td>\n",
       "      <td>0</td>\n",
       "    </tr>\n",
       "    <tr>\n",
       "      <th>4</th>\n",
       "      <td>15804002</td>\n",
       "      <td>Male</td>\n",
       "      <td>19</td>\n",
       "      <td>76000</td>\n",
       "      <td>0</td>\n",
       "    </tr>\n",
       "  </tbody>\n",
       "</table>\n",
       "</div>"
      ],
      "text/plain": [
       "    User ID  Gender  Age  EstimatedSalary  Purchased\n",
       "0  15624510    Male   19            19000          0\n",
       "1  15810944    Male   35            20000          0\n",
       "2  15668575  Female   26            43000          0\n",
       "3  15603246  Female   27            57000          0\n",
       "4  15804002    Male   19            76000          0"
      ]
     },
     "execution_count": 3,
     "metadata": {},
     "output_type": "execute_result"
    }
   ],
   "source": [
    "df = pd.read_csv(path)\n",
    "df.head()"
   ]
  },
  {
   "cell_type": "markdown",
   "id": "680cf6e7-8727-4a32-941c-3d0e7f473633",
   "metadata": {},
   "source": [
    "Exploratory data a analysis:"
   ]
  },
  {
   "cell_type": "code",
   "execution_count": 4,
   "id": "282f852a-2693-4a01-91cc-2c44ee57c7d4",
   "metadata": {},
   "outputs": [
    {
     "data": {
      "text/plain": [
       "(400, 5)"
      ]
     },
     "execution_count": 4,
     "metadata": {},
     "output_type": "execute_result"
    }
   ],
   "source": [
    "df.shape"
   ]
  },
  {
   "cell_type": "code",
   "execution_count": 5,
   "id": "1c02d3d5-14d1-4eff-acb3-f4516a9fc70a",
   "metadata": {},
   "outputs": [
    {
     "name": "stdout",
     "output_type": "stream",
     "text": [
      "For the column0: 0\n",
      "For the column0: 0\n",
      "For the column0: 0\n",
      "For the column0: 0\n",
      "For the column0: 0\n"
     ]
    }
   ],
   "source": [
    "#Missing values:\n",
    "columns = df.columns.values.tolist()\n",
    "for col in columns:\n",
    "    nul = pd.isnull(df[col]).values.ravel().sum()\n",
    "    print(\"For the column\" + str(nul) + \": \" + str(nul))"
   ]
  },
  {
   "cell_type": "code",
   "execution_count": 6,
   "id": "97fc9b86-0fa6-4620-b3b8-65e4094615d0",
   "metadata": {},
   "outputs": [
    {
     "data": {
      "text/html": [
       "<div>\n",
       "<style scoped>\n",
       "    .dataframe tbody tr th:only-of-type {\n",
       "        vertical-align: middle;\n",
       "    }\n",
       "\n",
       "    .dataframe tbody tr th {\n",
       "        vertical-align: top;\n",
       "    }\n",
       "\n",
       "    .dataframe thead th {\n",
       "        text-align: right;\n",
       "    }\n",
       "</style>\n",
       "<table border=\"1\" class=\"dataframe\">\n",
       "  <thead>\n",
       "    <tr style=\"text-align: right;\">\n",
       "      <th></th>\n",
       "      <th>User ID</th>\n",
       "      <th>Age</th>\n",
       "      <th>EstimatedSalary</th>\n",
       "      <th>Purchased</th>\n",
       "    </tr>\n",
       "  </thead>\n",
       "  <tbody>\n",
       "    <tr>\n",
       "      <th>count</th>\n",
       "      <td>4.000000e+02</td>\n",
       "      <td>400.000000</td>\n",
       "      <td>400.000000</td>\n",
       "      <td>400.000000</td>\n",
       "    </tr>\n",
       "    <tr>\n",
       "      <th>mean</th>\n",
       "      <td>1.569154e+07</td>\n",
       "      <td>37.655000</td>\n",
       "      <td>69742.500000</td>\n",
       "      <td>0.357500</td>\n",
       "    </tr>\n",
       "    <tr>\n",
       "      <th>std</th>\n",
       "      <td>7.165832e+04</td>\n",
       "      <td>10.482877</td>\n",
       "      <td>34096.960282</td>\n",
       "      <td>0.479864</td>\n",
       "    </tr>\n",
       "    <tr>\n",
       "      <th>min</th>\n",
       "      <td>1.556669e+07</td>\n",
       "      <td>18.000000</td>\n",
       "      <td>15000.000000</td>\n",
       "      <td>0.000000</td>\n",
       "    </tr>\n",
       "    <tr>\n",
       "      <th>25%</th>\n",
       "      <td>1.562676e+07</td>\n",
       "      <td>29.750000</td>\n",
       "      <td>43000.000000</td>\n",
       "      <td>0.000000</td>\n",
       "    </tr>\n",
       "    <tr>\n",
       "      <th>50%</th>\n",
       "      <td>1.569434e+07</td>\n",
       "      <td>37.000000</td>\n",
       "      <td>70000.000000</td>\n",
       "      <td>0.000000</td>\n",
       "    </tr>\n",
       "    <tr>\n",
       "      <th>75%</th>\n",
       "      <td>1.575036e+07</td>\n",
       "      <td>46.000000</td>\n",
       "      <td>88000.000000</td>\n",
       "      <td>1.000000</td>\n",
       "    </tr>\n",
       "    <tr>\n",
       "      <th>max</th>\n",
       "      <td>1.581524e+07</td>\n",
       "      <td>60.000000</td>\n",
       "      <td>150000.000000</td>\n",
       "      <td>1.000000</td>\n",
       "    </tr>\n",
       "  </tbody>\n",
       "</table>\n",
       "</div>"
      ],
      "text/plain": [
       "            User ID         Age  EstimatedSalary   Purchased\n",
       "count  4.000000e+02  400.000000       400.000000  400.000000\n",
       "mean   1.569154e+07   37.655000     69742.500000    0.357500\n",
       "std    7.165832e+04   10.482877     34096.960282    0.479864\n",
       "min    1.556669e+07   18.000000     15000.000000    0.000000\n",
       "25%    1.562676e+07   29.750000     43000.000000    0.000000\n",
       "50%    1.569434e+07   37.000000     70000.000000    0.000000\n",
       "75%    1.575036e+07   46.000000     88000.000000    1.000000\n",
       "max    1.581524e+07   60.000000    150000.000000    1.000000"
      ]
     },
     "execution_count": 6,
     "metadata": {},
     "output_type": "execute_result"
    }
   ],
   "source": [
    "df.describe()"
   ]
  },
  {
   "cell_type": "code",
   "execution_count": 7,
   "id": "87c3fbbf-ecc8-4625-9f63-0f8450e287a8",
   "metadata": {},
   "outputs": [
    {
     "data": {
      "text/plain": [
       "User ID             int64\n",
       "Gender             object\n",
       "Age                 int64\n",
       "EstimatedSalary     int64\n",
       "Purchased           int64\n",
       "dtype: object"
      ]
     },
     "execution_count": 7,
     "metadata": {},
     "output_type": "execute_result"
    }
   ],
   "source": [
    "df.dtypes"
   ]
  },
  {
   "cell_type": "code",
   "execution_count": 8,
   "id": "e3730877-3962-48c7-b870-b3f8b9e79be9",
   "metadata": {},
   "outputs": [
    {
     "data": {
      "text/html": [
       "<div>\n",
       "<style scoped>\n",
       "    .dataframe tbody tr th:only-of-type {\n",
       "        vertical-align: middle;\n",
       "    }\n",
       "\n",
       "    .dataframe tbody tr th {\n",
       "        vertical-align: top;\n",
       "    }\n",
       "\n",
       "    .dataframe thead th {\n",
       "        text-align: right;\n",
       "    }\n",
       "</style>\n",
       "<table border=\"1\" class=\"dataframe\">\n",
       "  <thead>\n",
       "    <tr style=\"text-align: right;\">\n",
       "      <th></th>\n",
       "      <th>Not Purchased</th>\n",
       "      <th>Purchased</th>\n",
       "    </tr>\n",
       "    <tr>\n",
       "      <th>Gender</th>\n",
       "      <th></th>\n",
       "      <th></th>\n",
       "    </tr>\n",
       "  </thead>\n",
       "  <tbody>\n",
       "    <tr>\n",
       "      <th>Female</th>\n",
       "      <td>127</td>\n",
       "      <td>77</td>\n",
       "    </tr>\n",
       "    <tr>\n",
       "      <th>Male</th>\n",
       "      <td>130</td>\n",
       "      <td>66</td>\n",
       "    </tr>\n",
       "  </tbody>\n",
       "</table>\n",
       "</div>"
      ],
      "text/plain": [
       "        Not Purchased  Purchased\n",
       "Gender                          \n",
       "Female            127         77\n",
       "Male              130         66"
      ]
     },
     "execution_count": 8,
     "metadata": {},
     "output_type": "execute_result"
    }
   ],
   "source": [
    "cross_sex = pd.crosstab(df.Gender, df.Purchased)\n",
    "cross_sex.columns = ['Not Purchased', 'Purchased']\n",
    "cross_sex"
   ]
  },
  {
   "cell_type": "code",
   "execution_count": 9,
   "id": "f05ccfa4-40a9-4a3d-9025-5b9971526e5a",
   "metadata": {},
   "outputs": [
    {
     "data": {
      "image/png": "[encoded data removed]",
      "text/plain": [
       "<Figure size 640x480 with 1 Axes>"
      ]
     },
     "metadata": {},
     "output_type": "display_data"
    },
    {
     "data": {
      "image/png": "[encoded data removed]",
      "text/plain": [
       "<Figure size 640x480 with 1 Axes>"
      ]
     },
     "metadata": {},
     "output_type": "display_data"
    },
    {
     "data": {
      "text/plain": [
       "'\\ncross_sex.sum(1) sums across the same row, changing columns, that is, 127 + 77 and 130 + 66.\\n.div(cros_sex.sum(1).astype(float), axis=0) divides each row by the value obtained, where axis=0 indicates the operation is done across rows.\\n'"
      ]
     },
     "execution_count": 9,
     "metadata": {},
     "output_type": "execute_result"
    }
   ],
   "source": [
    "cross_sex.plot(kind = \"bar\", stacked=False)\n",
    "plt.ylabel(\"Counts\")\n",
    "plt.show()\n",
    "cross_sex.div(cross_sex.sum(1).astype(float), axis=0).plot(kind=\"bar\", stacked=True)\n",
    "plt.title(\"Purchases by gender\")\n",
    "plt.ylabel(\"Counts\")\n",
    "plt.show()\n",
    "\"\"\"\n",
    "cross_sex.sum(1) sums across the same row, changing columns, that is, 127 + 77 and 130 + 66.\n",
    ".div(cros_sex.sum(1).astype(float), axis=0) divides each row by the value obtained, where axis=0 indicates the operation is done across rows.\n",
    "\"\"\""
   ]
  },
  {
   "cell_type": "markdown",
   "id": "e35d0a9f-a447-4aaf-9bf6-9bdbe7ee09be",
   "metadata": {},
   "source": [
    "females buy more than males. Let's see the probabilities of success (buying) for each sex."
   ]
  },
  {
   "cell_type": "code",
   "execution_count": 10,
   "id": "0eafdc18-5e09-4f77-b15c-ed9d68adec99",
   "metadata": {},
   "outputs": [
    {
     "name": "stdout",
     "output_type": "stream",
     "text": [
      "Probability of purchasing being male = 0.336734693877551\n",
      "Probability of purchasing being female = 0.37745098039215685\n",
      "\n",
      "\n",
      "Probability of NOT purchasing being male = 0.6632653061224489\n",
      "Probability of NOT purchasing being female = 0.6225490196078431\n"
     ]
    }
   ],
   "source": [
    "print(\"Probability of purchasing being male = \" + str(66/(130+66)))\n",
    "print(\"Probability of purchasing being female = \" +  str(77/(127+77)))\n",
    "print(\"\\n\")\n",
    "print(\"Probability of NOT purchasing being male = \" + str(1- (66/(130+66))))\n",
    "print(\"Probability of NOT purchasing being female = \" +  str(1- (77/(127+77))))"
   ]
  },
  {
   "cell_type": "code",
   "execution_count": 11,
   "id": "e3ac9a21-55f2-447f-b9bc-4373f7f19561",
   "metadata": {},
   "outputs": [
    {
     "name": "stdout",
     "output_type": "stream",
     "text": [
      "60\n",
      "18\n",
      "Number of years for having 6 age groups: 7.0\n"
     ]
    }
   ],
   "source": [
    "#Let's group people in age ranges\n",
    "Age = df[\"Age\"].unique().tolist()\n",
    "print(max(Age))\n",
    "print(min(Age))\n",
    "n = 6\n",
    "print(f\"Number of years for having {n} age groups: {(max(Age)-min(Age))/n}\")"
   ]
  },
  {
   "cell_type": "code",
   "execution_count": 12,
   "id": "9cd2c68e-a01d-4ee9-ac4e-1e3b97a4bd13",
   "metadata": {},
   "outputs": [
    {
     "data": {
      "text/html": [
       "<div>\n",
       "<style scoped>\n",
       "    .dataframe tbody tr th:only-of-type {\n",
       "        vertical-align: middle;\n",
       "    }\n",
       "\n",
       "    .dataframe tbody tr th {\n",
       "        vertical-align: top;\n",
       "    }\n",
       "\n",
       "    .dataframe thead th {\n",
       "        text-align: right;\n",
       "    }\n",
       "</style>\n",
       "<table border=\"1\" class=\"dataframe\">\n",
       "  <thead>\n",
       "    <tr style=\"text-align: right;\">\n",
       "      <th></th>\n",
       "      <th>User ID</th>\n",
       "      <th>Gender</th>\n",
       "      <th>Age</th>\n",
       "      <th>EstimatedSalary</th>\n",
       "      <th>Purchased</th>\n",
       "      <th>Age ranges</th>\n",
       "    </tr>\n",
       "  </thead>\n",
       "  <tbody>\n",
       "    <tr>\n",
       "      <th>0</th>\n",
       "      <td>15624510</td>\n",
       "      <td>Male</td>\n",
       "      <td>19</td>\n",
       "      <td>19000</td>\n",
       "      <td>0</td>\n",
       "      <td>Between 0 and 18</td>\n",
       "    </tr>\n",
       "    <tr>\n",
       "      <th>1</th>\n",
       "      <td>15810944</td>\n",
       "      <td>Male</td>\n",
       "      <td>35</td>\n",
       "      <td>20000</td>\n",
       "      <td>0</td>\n",
       "      <td>Between 25 and 32</td>\n",
       "    </tr>\n",
       "    <tr>\n",
       "      <th>2</th>\n",
       "      <td>15668575</td>\n",
       "      <td>Female</td>\n",
       "      <td>26</td>\n",
       "      <td>43000</td>\n",
       "      <td>0</td>\n",
       "      <td>Between 18 and 25</td>\n",
       "    </tr>\n",
       "    <tr>\n",
       "      <th>3</th>\n",
       "      <td>15603246</td>\n",
       "      <td>Female</td>\n",
       "      <td>27</td>\n",
       "      <td>57000</td>\n",
       "      <td>0</td>\n",
       "      <td>Between 18 and 25</td>\n",
       "    </tr>\n",
       "    <tr>\n",
       "      <th>4</th>\n",
       "      <td>15804002</td>\n",
       "      <td>Male</td>\n",
       "      <td>19</td>\n",
       "      <td>76000</td>\n",
       "      <td>0</td>\n",
       "      <td>Between 0 and 18</td>\n",
       "    </tr>\n",
       "    <tr>\n",
       "      <th>5</th>\n",
       "      <td>15728773</td>\n",
       "      <td>Male</td>\n",
       "      <td>27</td>\n",
       "      <td>58000</td>\n",
       "      <td>0</td>\n",
       "      <td>Between 18 and 25</td>\n",
       "    </tr>\n",
       "    <tr>\n",
       "      <th>6</th>\n",
       "      <td>15598044</td>\n",
       "      <td>Female</td>\n",
       "      <td>27</td>\n",
       "      <td>84000</td>\n",
       "      <td>0</td>\n",
       "      <td>Between 18 and 25</td>\n",
       "    </tr>\n",
       "    <tr>\n",
       "      <th>7</th>\n",
       "      <td>15694829</td>\n",
       "      <td>Female</td>\n",
       "      <td>32</td>\n",
       "      <td>150000</td>\n",
       "      <td>1</td>\n",
       "      <td>Between 25 and 32</td>\n",
       "    </tr>\n",
       "    <tr>\n",
       "      <th>8</th>\n",
       "      <td>15600575</td>\n",
       "      <td>Male</td>\n",
       "      <td>25</td>\n",
       "      <td>33000</td>\n",
       "      <td>0</td>\n",
       "      <td>Between 18 and 25</td>\n",
       "    </tr>\n",
       "    <tr>\n",
       "      <th>9</th>\n",
       "      <td>15727311</td>\n",
       "      <td>Female</td>\n",
       "      <td>35</td>\n",
       "      <td>65000</td>\n",
       "      <td>0</td>\n",
       "      <td>Between 25 and 32</td>\n",
       "    </tr>\n",
       "  </tbody>\n",
       "</table>\n",
       "</div>"
      ],
      "text/plain": [
       "    User ID  Gender  Age  EstimatedSalary  Purchased         Age ranges\n",
       "0  15624510    Male   19            19000          0   Between 0 and 18\n",
       "1  15810944    Male   35            20000          0  Between 25 and 32\n",
       "2  15668575  Female   26            43000          0  Between 18 and 25\n",
       "3  15603246  Female   27            57000          0  Between 18 and 25\n",
       "4  15804002    Male   19            76000          0   Between 0 and 18\n",
       "5  15728773    Male   27            58000          0  Between 18 and 25\n",
       "6  15598044  Female   27            84000          0  Between 18 and 25\n",
       "7  15694829  Female   32           150000          1  Between 25 and 32\n",
       "8  15600575    Male   25            33000          0  Between 18 and 25\n",
       "9  15727311  Female   35            65000          0  Between 25 and 32"
      ]
     },
     "execution_count": 12,
     "metadata": {},
     "output_type": "execute_result"
    }
   ],
   "source": [
    "#first group: 18 <= Age <= 18+7 = 25\n",
    "#second group: 25 <= Age <= 25+7 = 32\n",
    "#third group: 32 <= Age <= 32+7 = 39\n",
    "#third group: 39 <= Age <= 39+7 = 46\n",
    "#fourth group: 46 <= Age <= 46+7 = 53\n",
    "#fifth group: 53 <= Age <= 53+7 = 60\n",
    "\n",
    "group_ages = [0, 18, 25, 32, 39, 46, 53, 60]\n",
    "\n",
    "for i in range(len(group_ages)-1):\n",
    "    df.loc[(group_ages[i] <= df[\"Age\"]) & (df[\"Age\"]>= group_ages[i+1]), \"Age ranges\"] = f\"Between {group_ages[i]} and {group_ages[i+1]}\"\n",
    "df.head(10)"
   ]
  },
  {
   "cell_type": "code",
   "execution_count": 13,
   "id": "af2c0284-7c28-489b-a9b3-4be6df33c3c2",
   "metadata": {},
   "outputs": [
    {
     "data": {
      "text/html": [
       "<div>\n",
       "<style scoped>\n",
       "    .dataframe tbody tr th:only-of-type {\n",
       "        vertical-align: middle;\n",
       "    }\n",
       "\n",
       "    .dataframe tbody tr th {\n",
       "        vertical-align: top;\n",
       "    }\n",
       "\n",
       "    .dataframe thead th {\n",
       "        text-align: right;\n",
       "    }\n",
       "</style>\n",
       "<table border=\"1\" class=\"dataframe\">\n",
       "  <thead>\n",
       "    <tr style=\"text-align: right;\">\n",
       "      <th></th>\n",
       "      <th>Not Purchased</th>\n",
       "      <th>Purchased</th>\n",
       "    </tr>\n",
       "    <tr>\n",
       "      <th>Age ranges</th>\n",
       "      <th></th>\n",
       "      <th></th>\n",
       "    </tr>\n",
       "  </thead>\n",
       "  <tbody>\n",
       "    <tr>\n",
       "      <th>Between 0 and 18</th>\n",
       "      <td>43</td>\n",
       "      <td>0</td>\n",
       "    </tr>\n",
       "    <tr>\n",
       "      <th>Between 18 and 25</th>\n",
       "      <td>72</td>\n",
       "      <td>7</td>\n",
       "    </tr>\n",
       "    <tr>\n",
       "      <th>Between 25 and 32</th>\n",
       "      <td>78</td>\n",
       "      <td>23</td>\n",
       "    </tr>\n",
       "    <tr>\n",
       "      <th>Between 32 and 39</th>\n",
       "      <td>49</td>\n",
       "      <td>25</td>\n",
       "    </tr>\n",
       "    <tr>\n",
       "      <th>Between 39 and 46</th>\n",
       "      <td>13</td>\n",
       "      <td>50</td>\n",
       "    </tr>\n",
       "    <tr>\n",
       "      <th>Between 46 and 53</th>\n",
       "      <td>2</td>\n",
       "      <td>31</td>\n",
       "    </tr>\n",
       "    <tr>\n",
       "      <th>Between 53 and 60</th>\n",
       "      <td>0</td>\n",
       "      <td>7</td>\n",
       "    </tr>\n",
       "  </tbody>\n",
       "</table>\n",
       "</div>"
      ],
      "text/plain": [
       "                   Not Purchased  Purchased\n",
       "Age ranges                                 \n",
       "Between 0 and 18              43          0\n",
       "Between 18 and 25             72          7\n",
       "Between 25 and 32             78         23\n",
       "Between 32 and 39             49         25\n",
       "Between 39 and 46             13         50\n",
       "Between 46 and 53              2         31\n",
       "Between 53 and 60              0          7"
      ]
     },
     "execution_count": 13,
     "metadata": {},
     "output_type": "execute_result"
    }
   ],
   "source": [
    "cross_age = pd.crosstab(df[\"Age ranges\"], df[\"Purchased\"])\n",
    "cross_age.columns = [\"Not Purchased\", \"Purchased\"]\n",
    "cross_age"
   ]
  },
  {
   "cell_type": "code",
   "execution_count": 14,
   "id": "83c39e35-7a64-43e1-bc94-24b8afb78fde",
   "metadata": {},
   "outputs": [
    {
     "data": {
      "image/png": "[encoded data removed]",
      "text/plain": [
       "<Figure size 640x480 with 1 Axes>"
      ]
     },
     "metadata": {},
     "output_type": "display_data"
    }
   ],
   "source": [
    "cross_age.plot(kind = \"bar\")\n",
    "plt.xticks(rotation=70)\n",
    "plt.show()"
   ]
  },
  {
   "cell_type": "code",
   "execution_count": 15,
   "id": "c126fc38-1715-446e-afd6-dfdca0c30d4d",
   "metadata": {},
   "outputs": [
    {
     "data": {
      "image/png": "[encoded data removed]",
      "text/plain": [
       "<Figure size 640x480 with 1 Axes>"
      ]
     },
     "metadata": {},
     "output_type": "display_data"
    }
   ],
   "source": [
    "#Let's see the proportions:\n",
    "cross_age.div(cross_age.sum(1).astype(float), axis=0).plot(kind=\"bar\", stacked=True)\n",
    "plt.xticks(rotation=70)\n",
    "plt.title(\"Purchases by age\")\n",
    "plt.ylabel(\"Counts\")\n",
    "plt.show()"
   ]
  },
  {
   "cell_type": "markdown",
   "id": "b5515bbc-9679-4a48-971a-040042bdbbb1",
   "metadata": {},
   "source": [
    "It can be appreciated that ager people tend to buy the product more than younger people. In the group between 0 and 18, nobody is purchasing the product, whereas in the age group between 53 and 60 averybody is buying it. The ads in social networks are more powerful for old people."
   ]
  },
  {
   "cell_type": "code",
   "execution_count": 16,
   "id": "c29eda5c-af09-4a1e-8cc1-e1034f7c461b",
   "metadata": {},
   "outputs": [
    {
     "data": {
      "image/png": "[encoded data removed]",
      "text/plain": [
       "<Figure size 640x480 with 1 Axes>"
      ]
     },
     "metadata": {},
     "output_type": "display_data"
    }
   ],
   "source": [
    "sub_df0 = df[df['Purchased']==0]\n",
    "sub_df1 = df[df['Purchased']==1]\n",
    "sub_df0['Age'].plot(kind='hist', bins=30, edgecolor='black', color = 'b', label = \"Not purchased\", alpha=1)\n",
    "sub_df1['Age'].plot(kind='hist', bins=30, edgecolor='black', color = 'r', label = \"Purchsed\", alpha=0.5)\n",
    "plt.xlabel(\"Age\")\n",
    "plt.title(\"Purchases by age\")\n",
    "plt.legend()\n",
    "plt.show()"
   ]
  },
  {
   "cell_type": "markdown",
   "id": "9fedc21c-ad94-43b1-9196-489e3e217fc6",
   "metadata": {},
   "source": [
    "Let's study now the salary:"
   ]
  },
  {
   "cell_type": "code",
   "execution_count": 17,
   "id": "bd031596-d0eb-4b5b-ac01-03a3e387b96b",
   "metadata": {},
   "outputs": [
    {
     "data": {
      "text/plain": [
       "<Axes: ylabel='Frequency'>"
      ]
     },
     "execution_count": 17,
     "metadata": {},
     "output_type": "execute_result"
    },
    {
     "data": {
      "image/png": "[encoded data removed]",
      "text/plain": [
       "<Figure size 640x480 with 1 Axes>"
      ]
     },
     "metadata": {},
     "output_type": "display_data"
    }
   ],
   "source": [
    "df['EstimatedSalary'].plot(kind = 'hist', bins = 30, edgecolor='black')"
   ]
  },
  {
   "cell_type": "code",
   "execution_count": 18,
   "id": "839c8f31-c61a-4f78-96a2-04bff622451b",
   "metadata": {},
   "outputs": [
    {
     "data": {
      "image/png": "[encoded data removed]",
      "text/plain": [
       "<Figure size 640x480 with 1 Axes>"
      ]
     },
     "metadata": {},
     "output_type": "display_data"
    }
   ],
   "source": [
    "sub_df0 = df[df['Purchased']==0]\n",
    "sub_df1 = df[df['Purchased']==1]\n",
    "sub_df0['EstimatedSalary'].plot(kind='hist', bins=30, edgecolor='black', color = 'c', label = \"Not purchased\", alpha=1)\n",
    "sub_df1['EstimatedSalary'].plot(kind='hist', bins=30, edgecolor='black', color = 'k', label = \"Purchsed\", alpha=0.5)\n",
    "plt.xlabel(\"Salary\")\n",
    "plt.title(\"Purchases by salary\")\n",
    "plt.legend()\n",
    "plt.show()"
   ]
  },
  {
   "cell_type": "code",
   "execution_count": 19,
   "id": "3446d695-ea12-491d-b3d8-fc52215ee9b5",
   "metadata": {},
   "outputs": [
    {
     "name": "stdout",
     "output_type": "stream",
     "text": [
      "[15000, 28500, 42000, 55500, 69000, 82500, 96000, 109500, 123000, 136500, 150000]\n",
      "['Range: 15000-28500', 'Range: 28500-42000', 'Range: 42000-55500', 'Range: 55500-69000', 'Range: 69000-82500', 'Range: 82500-96000', 'Range: 96000-109500', 'Range: 109500-123000', 'Range: 123000-136500', 'Range: 136500-150000']\n"
     ]
    }
   ],
   "source": [
    "start = min(df[\"EstimatedSalary\"])\n",
    "end = max(df[\"EstimatedSalary\"])\n",
    "n_ranges = 10\n",
    "step = (end  - start)/n_ranges\n",
    "bins = np.arange(start, end + step, step)\n",
    "bins = bins.tolist()\n",
    "bins = [int(x) for x in bins]\n",
    "print(bins)\n",
    "labels = []\n",
    "for i in range(len(bins)-1):\n",
    "    labels.append(f\"Range: {bins[i]}-{bins[i+1]}\")\n",
    "print(labels)"
   ]
  },
  {
   "cell_type": "code",
   "execution_count": 20,
   "id": "e1e34f46-5962-4b02-85a0-1a120462cfaf",
   "metadata": {},
   "outputs": [],
   "source": [
    "df['SalaryRange'] = pd.cut(df['EstimatedSalary'], bins=bins, labels=labels, right=False)"
   ]
  },
  {
   "cell_type": "code",
   "execution_count": 21,
   "id": "75eeb32f-5dd2-46bf-b0f1-68de666efc08",
   "metadata": {},
   "outputs": [
    {
     "data": {
      "text/html": [
       "<div>\n",
       "<style scoped>\n",
       "    .dataframe tbody tr th:only-of-type {\n",
       "        vertical-align: middle;\n",
       "    }\n",
       "\n",
       "    .dataframe tbody tr th {\n",
       "        vertical-align: top;\n",
       "    }\n",
       "\n",
       "    .dataframe thead th {\n",
       "        text-align: right;\n",
       "    }\n",
       "</style>\n",
       "<table border=\"1\" class=\"dataframe\">\n",
       "  <thead>\n",
       "    <tr style=\"text-align: right;\">\n",
       "      <th></th>\n",
       "      <th>User ID</th>\n",
       "      <th>Gender</th>\n",
       "      <th>Age</th>\n",
       "      <th>EstimatedSalary</th>\n",
       "      <th>Purchased</th>\n",
       "      <th>Age ranges</th>\n",
       "      <th>SalaryRange</th>\n",
       "    </tr>\n",
       "  </thead>\n",
       "  <tbody>\n",
       "    <tr>\n",
       "      <th>0</th>\n",
       "      <td>15624510</td>\n",
       "      <td>Male</td>\n",
       "      <td>19</td>\n",
       "      <td>19000</td>\n",
       "      <td>0</td>\n",
       "      <td>Between 0 and 18</td>\n",
       "      <td>Range: 15000-28500</td>\n",
       "    </tr>\n",
       "    <tr>\n",
       "      <th>1</th>\n",
       "      <td>15810944</td>\n",
       "      <td>Male</td>\n",
       "      <td>35</td>\n",
       "      <td>20000</td>\n",
       "      <td>0</td>\n",
       "      <td>Between 25 and 32</td>\n",
       "      <td>Range: 15000-28500</td>\n",
       "    </tr>\n",
       "    <tr>\n",
       "      <th>2</th>\n",
       "      <td>15668575</td>\n",
       "      <td>Female</td>\n",
       "      <td>26</td>\n",
       "      <td>43000</td>\n",
       "      <td>0</td>\n",
       "      <td>Between 18 and 25</td>\n",
       "      <td>Range: 42000-55500</td>\n",
       "    </tr>\n",
       "    <tr>\n",
       "      <th>3</th>\n",
       "      <td>15603246</td>\n",
       "      <td>Female</td>\n",
       "      <td>27</td>\n",
       "      <td>57000</td>\n",
       "      <td>0</td>\n",
       "      <td>Between 18 and 25</td>\n",
       "      <td>Range: 55500-69000</td>\n",
       "    </tr>\n",
       "    <tr>\n",
       "      <th>4</th>\n",
       "      <td>15804002</td>\n",
       "      <td>Male</td>\n",
       "      <td>19</td>\n",
       "      <td>76000</td>\n",
       "      <td>0</td>\n",
       "      <td>Between 0 and 18</td>\n",
       "      <td>Range: 69000-82500</td>\n",
       "    </tr>\n",
       "  </tbody>\n",
       "</table>\n",
       "</div>"
      ],
      "text/plain": [
       "    User ID  Gender  Age  EstimatedSalary  Purchased         Age ranges  \\\n",
       "0  15624510    Male   19            19000          0   Between 0 and 18   \n",
       "1  15810944    Male   35            20000          0  Between 25 and 32   \n",
       "2  15668575  Female   26            43000          0  Between 18 and 25   \n",
       "3  15603246  Female   27            57000          0  Between 18 and 25   \n",
       "4  15804002    Male   19            76000          0   Between 0 and 18   \n",
       "\n",
       "          SalaryRange  \n",
       "0  Range: 15000-28500  \n",
       "1  Range: 15000-28500  \n",
       "2  Range: 42000-55500  \n",
       "3  Range: 55500-69000  \n",
       "4  Range: 69000-82500  "
      ]
     },
     "execution_count": 21,
     "metadata": {},
     "output_type": "execute_result"
    }
   ],
   "source": [
    "df.head()"
   ]
  },
  {
   "cell_type": "code",
   "execution_count": 28,
   "id": "b2bc876c-2a28-402f-9e8d-1e854d0fff59",
   "metadata": {},
   "outputs": [
    {
     "data": {
      "text/html": [
       "<div>\n",
       "<style scoped>\n",
       "    .dataframe tbody tr th:only-of-type {\n",
       "        vertical-align: middle;\n",
       "    }\n",
       "\n",
       "    .dataframe tbody tr th {\n",
       "        vertical-align: top;\n",
       "    }\n",
       "\n",
       "    .dataframe thead th {\n",
       "        text-align: right;\n",
       "    }\n",
       "</style>\n",
       "<table border=\"1\" class=\"dataframe\">\n",
       "  <thead>\n",
       "    <tr style=\"text-align: right;\">\n",
       "      <th>Purchased</th>\n",
       "      <th>0</th>\n",
       "      <th>1</th>\n",
       "    </tr>\n",
       "    <tr>\n",
       "      <th>SalaryRange</th>\n",
       "      <th></th>\n",
       "      <th></th>\n",
       "    </tr>\n",
       "  </thead>\n",
       "  <tbody>\n",
       "    <tr>\n",
       "      <th>Range: 15000-28500</th>\n",
       "      <td>35</td>\n",
       "      <td>16</td>\n",
       "    </tr>\n",
       "    <tr>\n",
       "      <th>Range: 28500-42000</th>\n",
       "      <td>18</td>\n",
       "      <td>21</td>\n",
       "    </tr>\n",
       "    <tr>\n",
       "      <th>Range: 42000-55500</th>\n",
       "      <td>50</td>\n",
       "      <td>8</td>\n",
       "    </tr>\n",
       "    <tr>\n",
       "      <th>Range: 55500-69000</th>\n",
       "      <td>48</td>\n",
       "      <td>2</td>\n",
       "    </tr>\n",
       "    <tr>\n",
       "      <th>Range: 69000-82500</th>\n",
       "      <td>68</td>\n",
       "      <td>14</td>\n",
       "    </tr>\n",
       "    <tr>\n",
       "      <th>Range: 82500-96000</th>\n",
       "      <td>26</td>\n",
       "      <td>14</td>\n",
       "    </tr>\n",
       "    <tr>\n",
       "      <th>Range: 96000-109500</th>\n",
       "      <td>2</td>\n",
       "      <td>20</td>\n",
       "    </tr>\n",
       "    <tr>\n",
       "      <th>Range: 109500-123000</th>\n",
       "      <td>7</td>\n",
       "      <td>12</td>\n",
       "    </tr>\n",
       "    <tr>\n",
       "      <th>Range: 123000-136500</th>\n",
       "      <td>2</td>\n",
       "      <td>15</td>\n",
       "    </tr>\n",
       "    <tr>\n",
       "      <th>Range: 136500-150000</th>\n",
       "      <td>1</td>\n",
       "      <td>19</td>\n",
       "    </tr>\n",
       "  </tbody>\n",
       "</table>\n",
       "</div>"
      ],
      "text/plain": [
       "Purchased              0   1\n",
       "SalaryRange                 \n",
       "Range: 15000-28500    35  16\n",
       "Range: 28500-42000    18  21\n",
       "Range: 42000-55500    50   8\n",
       "Range: 55500-69000    48   2\n",
       "Range: 69000-82500    68  14\n",
       "Range: 82500-96000    26  14\n",
       "Range: 96000-109500    2  20\n",
       "Range: 109500-123000   7  12\n",
       "Range: 123000-136500   2  15\n",
       "Range: 136500-150000   1  19"
      ]
     },
     "execution_count": 28,
     "metadata": {},
     "output_type": "execute_result"
    }
   ],
   "source": [
    "cross_table_Salary = pd.crosstab(df[\"SalaryRange\"], df[\"Purchased\"])\n",
    "cross_table_Salary"
   ]
  },
  {
   "cell_type": "code",
   "execution_count": 29,
   "id": "dfcfcac1-1131-4b34-85f3-6e1bd8d2f688",
   "metadata": {},
   "outputs": [
    {
     "data": {
      "image/png": "[encoded data removed]",
      "text/plain": [
       "<Figure size 640x480 with 1 Axes>"
      ]
     },
     "metadata": {},
     "output_type": "display_data"
    }
   ],
   "source": [
    "cross_table_Salary.plot(kind = \"bar\")\n",
    "cross_table_Salary.columns = [\"Not Purchased\",\"Purchased\"]\n",
    "plt.xticks(rotation = 70)\n",
    "plt.ylabel(\"Frequency\")\n",
    "plt.title(\"Purchases by ranges of salary\")\n",
    "plt.show()"
   ]
  },
  {
   "cell_type": "code",
   "execution_count": 30,
   "id": "3e1be25e-d942-411f-b13e-badeda129e2c",
   "metadata": {},
   "outputs": [
    {
     "data": {
      "image/png": "[encoded data removed]",
      "text/plain": [
       "<Figure size 640x480 with 1 Axes>"
      ]
     },
     "metadata": {},
     "output_type": "display_data"
    }
   ],
   "source": [
    "cross_table_Salary.div(cross_table_Salary.sum(1).astype(float), axis=0).plot(kind=\"bar\", stacked=True)\n",
    "plt.xticks(rotation = 70)\n",
    "plt.title(\"Purchases by ranges of salary\")\n",
    "plt.ylabel(\"Normalised frequency\")\n",
    "plt.show()"
   ]
  },
  {
   "cell_type": "markdown",
   "id": "2937de00-82b9-4edb-b46d-0002d3249b3a",
   "metadata": {},
   "source": [
    "We have proved that for more salary that a person have, there are more chances that this person purchase the product"
   ]
  },
  {
   "cell_type": "code",
   "execution_count": 31,
   "id": "d02f3152-ff82-4367-86f5-d650535b0542",
   "metadata": {},
   "outputs": [
    {
     "data": {
      "text/plain": [
       "<Axes: xlabel='User ID', ylabel='Count'>"
      ]
     },
     "execution_count": 31,
     "metadata": {},
     "output_type": "execute_result"
    },
    {
     "data": {
      "image/png": "[encoded data removed]",
      "text/plain": [
       "<Figure size 640x480 with 1 Axes>"
      ]
     },
     "metadata": {},
     "output_type": "display_data"
    }
   ],
   "source": [
    "sns.histplot(df['User ID'], bins = 50)"
   ]
  },
  {
   "cell_type": "markdown",
   "id": "78b5fa28-83c6-457f-83ba-b773819a727d",
   "metadata": {},
   "source": [
    "Selection of features for the model:"
   ]
  },
  {
   "cell_type": "code",
   "execution_count": 32,
   "id": "a27d1fb6-9f77-48bf-9e0e-edfb7139faba",
   "metadata": {},
   "outputs": [],
   "source": [
    "from sklearn import datasets\n",
    "from sklearn.feature_selection import RFE\n",
    "from sklearn.linear_model import LogisticRegression"
   ]
  },
  {
   "cell_type": "code",
   "execution_count": 33,
   "id": "213d9c9d-b8d5-43b7-943d-0d15ef0d7a3e",
   "metadata": {},
   "outputs": [
    {
     "data": {
      "text/plain": [
       "['User ID', 'Gender', 'Age', 'EstimatedSalary', 'Purchased']"
      ]
     },
     "execution_count": 33,
     "metadata": {},
     "output_type": "execute_result"
    }
   ],
   "source": [
    "columns"
   ]
  },
  {
   "cell_type": "code",
   "execution_count": 34,
   "id": "57ce12e4-1663-4588-aca9-d77fc49cf991",
   "metadata": {},
   "outputs": [
    {
     "data": {
      "text/html": [
       "<div>\n",
       "<style scoped>\n",
       "    .dataframe tbody tr th:only-of-type {\n",
       "        vertical-align: middle;\n",
       "    }\n",
       "\n",
       "    .dataframe tbody tr th {\n",
       "        vertical-align: top;\n",
       "    }\n",
       "\n",
       "    .dataframe thead th {\n",
       "        text-align: right;\n",
       "    }\n",
       "</style>\n",
       "<table border=\"1\" class=\"dataframe\">\n",
       "  <thead>\n",
       "    <tr style=\"text-align: right;\">\n",
       "      <th></th>\n",
       "      <th>Gender_Female</th>\n",
       "      <th>Gender_Male</th>\n",
       "    </tr>\n",
       "  </thead>\n",
       "  <tbody>\n",
       "    <tr>\n",
       "      <th>0</th>\n",
       "      <td>False</td>\n",
       "      <td>True</td>\n",
       "    </tr>\n",
       "    <tr>\n",
       "      <th>1</th>\n",
       "      <td>False</td>\n",
       "      <td>True</td>\n",
       "    </tr>\n",
       "    <tr>\n",
       "      <th>2</th>\n",
       "      <td>True</td>\n",
       "      <td>False</td>\n",
       "    </tr>\n",
       "    <tr>\n",
       "      <th>3</th>\n",
       "      <td>True</td>\n",
       "      <td>False</td>\n",
       "    </tr>\n",
       "    <tr>\n",
       "      <th>4</th>\n",
       "      <td>False</td>\n",
       "      <td>True</td>\n",
       "    </tr>\n",
       "  </tbody>\n",
       "</table>\n",
       "</div>"
      ],
      "text/plain": [
       "   Gender_Female  Gender_Male\n",
       "0          False         True\n",
       "1          False         True\n",
       "2           True        False\n",
       "3           True        False\n",
       "4          False         True"
      ]
     },
     "execution_count": 34,
     "metadata": {},
     "output_type": "execute_result"
    }
   ],
   "source": [
    "#Turning cathegorical values into dummies:\n",
    "gender_dummy = pd.get_dummies(df['Gender'], prefix = 'Gender')\n",
    "gender_dummy.head()"
   ]
  },
  {
   "cell_type": "code",
   "execution_count": 35,
   "id": "48b56d63-bc2d-4c22-8747-da473065d643",
   "metadata": {},
   "outputs": [],
   "source": [
    "df = df.drop(columns=['Gender'])"
   ]
  },
  {
   "cell_type": "code",
   "execution_count": 36,
   "id": "543a107f-49bc-4b80-95ca-2e11b5c4a1fd",
   "metadata": {},
   "outputs": [],
   "source": [
    "df = df.join(gender_dummy)"
   ]
  },
  {
   "cell_type": "code",
   "execution_count": 37,
   "id": "c6afab4f-2d54-4126-829c-d8c243e594b6",
   "metadata": {},
   "outputs": [
    {
     "name": "stderr",
     "output_type": "stream",
     "text": [
      "C:\\Users\\victo\\AppData\\Local\\Temp\\ipykernel_7912\\570884255.py:1: FutureWarning: Downcasting behavior in `replace` is deprecated and will be removed in a future version. To retain the old behavior, explicitly call `result.infer_objects(copy=False)`. To opt-in to the future behavior, set `pd.set_option('future.no_silent_downcasting', True)`\n",
      "  df['Gender_Female'] = df['Gender_Female'].replace({True: 1, False: 0})\n",
      "C:\\Users\\victo\\AppData\\Local\\Temp\\ipykernel_7912\\570884255.py:2: FutureWarning: Downcasting behavior in `replace` is deprecated and will be removed in a future version. To retain the old behavior, explicitly call `result.infer_objects(copy=False)`. To opt-in to the future behavior, set `pd.set_option('future.no_silent_downcasting', True)`\n",
      "  df['Gender_Male'] = df['Gender_Male'].replace({True: 1, False: 0})\n"
     ]
    },
    {
     "data": {
      "text/html": [
       "<div>\n",
       "<style scoped>\n",
       "    .dataframe tbody tr th:only-of-type {\n",
       "        vertical-align: middle;\n",
       "    }\n",
       "\n",
       "    .dataframe tbody tr th {\n",
       "        vertical-align: top;\n",
       "    }\n",
       "\n",
       "    .dataframe thead th {\n",
       "        text-align: right;\n",
       "    }\n",
       "</style>\n",
       "<table border=\"1\" class=\"dataframe\">\n",
       "  <thead>\n",
       "    <tr style=\"text-align: right;\">\n",
       "      <th></th>\n",
       "      <th>User ID</th>\n",
       "      <th>Age</th>\n",
       "      <th>EstimatedSalary</th>\n",
       "      <th>Purchased</th>\n",
       "      <th>Age ranges</th>\n",
       "      <th>SalaryRange</th>\n",
       "      <th>Gender_Female</th>\n",
       "      <th>Gender_Male</th>\n",
       "    </tr>\n",
       "  </thead>\n",
       "  <tbody>\n",
       "    <tr>\n",
       "      <th>0</th>\n",
       "      <td>15624510</td>\n",
       "      <td>19</td>\n",
       "      <td>19000</td>\n",
       "      <td>0</td>\n",
       "      <td>Between 0 and 18</td>\n",
       "      <td>Range: 15000-28500</td>\n",
       "      <td>0</td>\n",
       "      <td>1</td>\n",
       "    </tr>\n",
       "    <tr>\n",
       "      <th>1</th>\n",
       "      <td>15810944</td>\n",
       "      <td>35</td>\n",
       "      <td>20000</td>\n",
       "      <td>0</td>\n",
       "      <td>Between 25 and 32</td>\n",
       "      <td>Range: 15000-28500</td>\n",
       "      <td>0</td>\n",
       "      <td>1</td>\n",
       "    </tr>\n",
       "    <tr>\n",
       "      <th>2</th>\n",
       "      <td>15668575</td>\n",
       "      <td>26</td>\n",
       "      <td>43000</td>\n",
       "      <td>0</td>\n",
       "      <td>Between 18 and 25</td>\n",
       "      <td>Range: 42000-55500</td>\n",
       "      <td>1</td>\n",
       "      <td>0</td>\n",
       "    </tr>\n",
       "    <tr>\n",
       "      <th>3</th>\n",
       "      <td>15603246</td>\n",
       "      <td>27</td>\n",
       "      <td>57000</td>\n",
       "      <td>0</td>\n",
       "      <td>Between 18 and 25</td>\n",
       "      <td>Range: 55500-69000</td>\n",
       "      <td>1</td>\n",
       "      <td>0</td>\n",
       "    </tr>\n",
       "    <tr>\n",
       "      <th>4</th>\n",
       "      <td>15804002</td>\n",
       "      <td>19</td>\n",
       "      <td>76000</td>\n",
       "      <td>0</td>\n",
       "      <td>Between 0 and 18</td>\n",
       "      <td>Range: 69000-82500</td>\n",
       "      <td>0</td>\n",
       "      <td>1</td>\n",
       "    </tr>\n",
       "  </tbody>\n",
       "</table>\n",
       "</div>"
      ],
      "text/plain": [
       "    User ID  Age  EstimatedSalary  Purchased         Age ranges  \\\n",
       "0  15624510   19            19000          0   Between 0 and 18   \n",
       "1  15810944   35            20000          0  Between 25 and 32   \n",
       "2  15668575   26            43000          0  Between 18 and 25   \n",
       "3  15603246   27            57000          0  Between 18 and 25   \n",
       "4  15804002   19            76000          0   Between 0 and 18   \n",
       "\n",
       "          SalaryRange  Gender_Female  Gender_Male  \n",
       "0  Range: 15000-28500              0            1  \n",
       "1  Range: 15000-28500              0            1  \n",
       "2  Range: 42000-55500              1            0  \n",
       "3  Range: 55500-69000              1            0  \n",
       "4  Range: 69000-82500              0            1  "
      ]
     },
     "execution_count": 37,
     "metadata": {},
     "output_type": "execute_result"
    }
   ],
   "source": [
    "df['Gender_Female'] = df['Gender_Female'].replace({True: 1, False: 0})\n",
    "df['Gender_Male'] = df['Gender_Male'].replace({True: 1, False: 0})\n",
    "df.head()"
   ]
  },
  {
   "cell_type": "code",
   "execution_count": 38,
   "id": "bffb0950-cfcb-429c-b2c1-0c5e55c53528",
   "metadata": {},
   "outputs": [
    {
     "data": {
      "text/html": [
       "<div>\n",
       "<style scoped>\n",
       "    .dataframe tbody tr th:only-of-type {\n",
       "        vertical-align: middle;\n",
       "    }\n",
       "\n",
       "    .dataframe tbody tr th {\n",
       "        vertical-align: top;\n",
       "    }\n",
       "\n",
       "    .dataframe thead th {\n",
       "        text-align: right;\n",
       "    }\n",
       "</style>\n",
       "<table border=\"1\" class=\"dataframe\">\n",
       "  <thead>\n",
       "    <tr style=\"text-align: right;\">\n",
       "      <th></th>\n",
       "      <th>User ID</th>\n",
       "      <th>Age</th>\n",
       "      <th>EstimatedSalary</th>\n",
       "      <th>Purchased</th>\n",
       "      <th>Gender_Female</th>\n",
       "      <th>Gender_Male</th>\n",
       "    </tr>\n",
       "  </thead>\n",
       "  <tbody>\n",
       "    <tr>\n",
       "      <th>0</th>\n",
       "      <td>15624510</td>\n",
       "      <td>19</td>\n",
       "      <td>19000</td>\n",
       "      <td>0</td>\n",
       "      <td>0</td>\n",
       "      <td>1</td>\n",
       "    </tr>\n",
       "    <tr>\n",
       "      <th>1</th>\n",
       "      <td>15810944</td>\n",
       "      <td>35</td>\n",
       "      <td>20000</td>\n",
       "      <td>0</td>\n",
       "      <td>0</td>\n",
       "      <td>1</td>\n",
       "    </tr>\n",
       "    <tr>\n",
       "      <th>2</th>\n",
       "      <td>15668575</td>\n",
       "      <td>26</td>\n",
       "      <td>43000</td>\n",
       "      <td>0</td>\n",
       "      <td>1</td>\n",
       "      <td>0</td>\n",
       "    </tr>\n",
       "    <tr>\n",
       "      <th>3</th>\n",
       "      <td>15603246</td>\n",
       "      <td>27</td>\n",
       "      <td>57000</td>\n",
       "      <td>0</td>\n",
       "      <td>1</td>\n",
       "      <td>0</td>\n",
       "    </tr>\n",
       "    <tr>\n",
       "      <th>4</th>\n",
       "      <td>15804002</td>\n",
       "      <td>19</td>\n",
       "      <td>76000</td>\n",
       "      <td>0</td>\n",
       "      <td>0</td>\n",
       "      <td>1</td>\n",
       "    </tr>\n",
       "  </tbody>\n",
       "</table>\n",
       "</div>"
      ],
      "text/plain": [
       "    User ID  Age  EstimatedSalary  Purchased  Gender_Female  Gender_Male\n",
       "0  15624510   19            19000          0              0            1\n",
       "1  15810944   35            20000          0              0            1\n",
       "2  15668575   26            43000          0              1            0\n",
       "3  15603246   27            57000          0              1            0\n",
       "4  15804002   19            76000          0              0            1"
      ]
     },
     "execution_count": 38,
     "metadata": {},
     "output_type": "execute_result"
    }
   ],
   "source": [
    "df = df.drop(columns = ['Age ranges', 'SalaryRange'])\n",
    "df.head()"
   ]
  },
  {
   "cell_type": "code",
   "execution_count": 39,
   "id": "0c1aff5e-25e9-4e32-a166-5ae6b4d2ae7c",
   "metadata": {},
   "outputs": [],
   "source": [
    "Y = df['Purchased']\n",
    "X = df[['User ID', 'Age', 'EstimatedSalary','Gender_Female', 'Gender_Male']]"
   ]
  },
  {
   "cell_type": "code",
   "execution_count": 40,
   "id": "d346e785-f9e1-4c8a-b2cb-be4fdcc94ca8",
   "metadata": {},
   "outputs": [],
   "source": [
    "from sklearn import datasets\n",
    "from sklearn.feature_selection import RFE\n",
    "from sklearn.linear_model import LogisticRegression"
   ]
  },
  {
   "cell_type": "code",
   "execution_count": 41,
   "id": "40714d69-3b81-4bcb-ade6-469fccd1ab90",
   "metadata": {},
   "outputs": [],
   "source": [
    "lr = LogisticRegression(solver='lbfgs',class_weight='balanced', max_iter=10000)"
   ]
  },
  {
   "cell_type": "code",
   "execution_count": 42,
   "id": "e2b3609f-3a9a-4182-84e4-a42747afc070",
   "metadata": {},
   "outputs": [],
   "source": [
    "rfe = RFE(lr, n_features_to_select=1)\n",
    "rfe = rfe.fit(X, Y)"
   ]
  },
  {
   "cell_type": "code",
   "execution_count": 43,
   "id": "26e9bce4-e5f1-495c-a7e4-363d3604a25d",
   "metadata": {},
   "outputs": [
    {
     "name": "stdout",
     "output_type": "stream",
     "text": [
      "[False  True False False False]\n"
     ]
    }
   ],
   "source": [
    "print(rfe.support_)"
   ]
  },
  {
   "cell_type": "code",
   "execution_count": 44,
   "id": "cc4c8cdc-9cfb-441c-8d35-ec12e92acf18",
   "metadata": {
    "tags": []
   },
   "outputs": [
    {
     "name": "stdout",
     "output_type": "stream",
     "text": [
      "[5 1 4 2 3]\n"
     ]
    }
   ],
   "source": [
    "print(rfe.ranking_)"
   ]
  },
  {
   "cell_type": "code",
   "execution_count": 45,
   "id": "7788260c-675b-417b-8c9c-d087246cc868",
   "metadata": {},
   "outputs": [
    {
     "data": {
      "text/plain": [
       "[('User ID', np.False_, np.int64(5)),\n",
       " ('Age', np.True_, np.int64(1)),\n",
       " ('EstimatedSalary', np.False_, np.int64(4)),\n",
       " ('Gender_Female', np.False_, np.int64(2)),\n",
       " ('Gender_Male', np.False_, np.int64(3))]"
      ]
     },
     "execution_count": 45,
     "metadata": {},
     "output_type": "execute_result"
    }
   ],
   "source": [
    "z=zip(X, rfe.support_, rfe.ranking_)\n",
    "list(z)"
   ]
  },
  {
   "cell_type": "raw",
   "id": "8d711722-f08d-42fc-9b97-7e02ee945afb",
   "metadata": {},
   "source": [
    "The \"User ID\" is the least important variable and, as might be expected, it is likely to be unhelpful for creating a logistic regression model."
   ]
  },
  {
   "cell_type": "code",
   "execution_count": 46,
   "id": "db2809aa-0a22-4051-87bb-cc370166c7ef",
   "metadata": {},
   "outputs": [],
   "source": [
    "X = X.drop('User ID', axis = 1)\n",
    "columns = X.columns.values.tolist()"
   ]
  },
  {
   "cell_type": "code",
   "execution_count": 47,
   "id": "0c30182d-225f-4923-9867-88d42f6c1624",
   "metadata": {},
   "outputs": [
    {
     "name": "stdout",
     "output_type": "stream",
     "text": [
      "Optimization terminated successfully.\n",
      "         Current function value: 0.344804\n",
      "         Iterations 8\n"
     ]
    }
   ],
   "source": [
    "import statsmodels.api as sm\n",
    "logit_model = sm.Logit(Y, X)\n",
    "result = logit_model.fit()"
   ]
  },
  {
   "cell_type": "code",
   "execution_count": 48,
   "id": "aa0a959e-1f4d-46eb-acde-df75288ca140",
   "metadata": {},
   "outputs": [
    {
     "data": {
      "text/html": [
       "<table class=\"simpletable\">\n",
       "<tr>\n",
       "        <td>Model:</td>              <td>Logit</td>           <td>Method:</td>          <td>MLE</td>   \n",
       "</tr>\n",
       "<tr>\n",
       "  <td>Dependent Variable:</td>     <td>Purchased</td>    <td>Pseudo R-squared:</td>    <td>0.471</td>  \n",
       "</tr>\n",
       "<tr>\n",
       "         <td>Date:</td>        <td>2024-09-17 22:19</td>       <td>AIC:</td>         <td>283.8432</td> \n",
       "</tr>\n",
       "<tr>\n",
       "   <td>No. Observations:</td>         <td>400</td>             <td>BIC:</td>         <td>299.8091</td> \n",
       "</tr>\n",
       "<tr>\n",
       "       <td>Df Model:</td>              <td>3</td>         <td>Log-Likelihood:</td>    <td>-137.92</td> \n",
       "</tr>\n",
       "<tr>\n",
       "     <td>Df Residuals:</td>           <td>396</td>           <td>LL-Null:</td>        <td>-260.79</td> \n",
       "</tr>\n",
       "<tr>\n",
       "      <td>Converged:</td>           <td>1.0000</td>        <td>LLR p-value:</td>    <td>5.4877e-53</td>\n",
       "</tr>\n",
       "<tr>\n",
       "    <td>No. Iterations:</td>        <td>8.0000</td>           <td>Scale:</td>         <td>1.0000</td>  \n",
       "</tr>\n",
       "</table>\n",
       "<table class=\"simpletable\">\n",
       "<tr>\n",
       "         <td></td>           <th>Coef.</th>  <th>Std.Err.</th>    <th>z</th>     <th>P>|z|</th>  <th>[0.025</th>   <th>0.975]</th> \n",
       "</tr>\n",
       "<tr>\n",
       "  <th>Age</th>              <td>0.2370</td>   <td>0.0264</td>  <td>8.9839</td>  <td>0.0000</td>  <td>0.1853</td>   <td>0.2887</td> \n",
       "</tr>\n",
       "<tr>\n",
       "  <th>EstimatedSalary</th>  <td>0.0000</td>   <td>0.0000</td>  <td>6.6585</td>  <td>0.0000</td>  <td>0.0000</td>   <td>0.0000</td> \n",
       "</tr>\n",
       "<tr>\n",
       "  <th>Gender_Female</th>   <td>-12.7836</td>  <td>1.3592</td>  <td>-9.4049</td> <td>0.0000</td> <td>-15.4477</td> <td>-10.1196</td>\n",
       "</tr>\n",
       "<tr>\n",
       "  <th>Gender_Male</th>     <td>-12.4498</td>  <td>1.3092</td>  <td>-9.5097</td> <td>0.0000</td> <td>-15.0157</td>  <td>-9.8839</td>\n",
       "</tr>\n",
       "</table><br/>\n"
      ],
      "text/latex": [
       "\\begin{table}\n",
       "\\caption{Results: Logit}\n",
       "\\label{}\n",
       "\\begin{center}\n",
       "\\begin{tabular}{llll}\n",
       "\\hline\n",
       "Model:              & Logit            & Method:           & MLE         \\\\\n",
       "Dependent Variable: & Purchased        & Pseudo R-squared: & 0.471       \\\\\n",
       "Date:               & 2024-09-17 22:19 & AIC:              & 283.8432    \\\\\n",
       "No. Observations:   & 400              & BIC:              & 299.8091    \\\\\n",
       "Df Model:           & 3                & Log-Likelihood:   & -137.92     \\\\\n",
       "Df Residuals:       & 396              & LL-Null:          & -260.79     \\\\\n",
       "Converged:          & 1.0000           & LLR p-value:      & 5.4877e-53  \\\\\n",
       "No. Iterations:     & 8.0000           & Scale:            & 1.0000      \\\\\n",
       "\\hline\n",
       "\\end{tabular}\n",
       "\\end{center}\n",
       "\n",
       "\\begin{center}\n",
       "\\begin{tabular}{lrrrrrr}\n",
       "\\hline\n",
       "                &    Coef. & Std.Err. &       z & P$> |$z$|$ &   [0.025 &   0.975]  \\\\\n",
       "\\hline\n",
       "Age             &   0.2370 &   0.0264 &  8.9839 &      0.0000 &   0.1853 &   0.2887  \\\\\n",
       "EstimatedSalary &   0.0000 &   0.0000 &  6.6585 &      0.0000 &   0.0000 &   0.0000  \\\\\n",
       "Gender\\_Female  & -12.7836 &   1.3592 & -9.4049 &      0.0000 & -15.4477 & -10.1196  \\\\\n",
       "Gender\\_Male    & -12.4498 &   1.3092 & -9.5097 &      0.0000 & -15.0157 &  -9.8839  \\\\\n",
       "\\hline\n",
       "\\end{tabular}\n",
       "\\end{center}\n",
       "\\end{table}\n",
       "\\bigskip\n"
      ],
      "text/plain": [
       "<class 'statsmodels.iolib.summary2.Summary'>\n",
       "\"\"\"\n",
       "                          Results: Logit\n",
       "==================================================================\n",
       "Model:               Logit            Method:           MLE       \n",
       "Dependent Variable:  Purchased        Pseudo R-squared: 0.471     \n",
       "Date:                2024-09-17 22:19 AIC:              283.8432  \n",
       "No. Observations:    400              BIC:              299.8091  \n",
       "Df Model:            3                Log-Likelihood:   -137.92   \n",
       "Df Residuals:        396              LL-Null:          -260.79   \n",
       "Converged:           1.0000           LLR p-value:      5.4877e-53\n",
       "No. Iterations:      8.0000           Scale:            1.0000    \n",
       "------------------------------------------------------------------\n",
       "                 Coef.   Std.Err.    z    P>|z|   [0.025   0.975] \n",
       "------------------------------------------------------------------\n",
       "Age               0.2370   0.0264  8.9839 0.0000   0.1853   0.2887\n",
       "EstimatedSalary   0.0000   0.0000  6.6585 0.0000   0.0000   0.0000\n",
       "Gender_Female   -12.7836   1.3592 -9.4049 0.0000 -15.4477 -10.1196\n",
       "Gender_Male     -12.4498   1.3092 -9.5097 0.0000 -15.0157  -9.8839\n",
       "==================================================================\n",
       "\n",
       "\"\"\""
      ]
     },
     "execution_count": 48,
     "metadata": {},
     "output_type": "execute_result"
    }
   ],
   "source": [
    "result.summary2()"
   ]
  },
  {
   "cell_type": "markdown",
   "id": "bd508004-40f3-41e6-a3d1-6ba945d3d0bd",
   "metadata": {},
   "source": [
    "Since all p-values are smaller than 0.005, which is below the 5% significance level, we can conclude that all coefficients are statistically significant. However, it can be appreciated that we have a 0 coeficient for the variable 'EstimatedSalary'. Lets create another model without this variable."
   ]
  },
  {
   "cell_type": "code",
   "execution_count": 49,
   "id": "5e5ad502-5b03-497e-8204-d00e03bc9c16",
   "metadata": {},
   "outputs": [
    {
     "name": "stdout",
     "output_type": "stream",
     "text": [
      "Optimization terminated successfully.\n",
      "         Current function value: 0.420177\n",
      "         Iterations 7\n"
     ]
    },
    {
     "data": {
      "text/html": [
       "<table class=\"simpletable\">\n",
       "<tr>\n",
       "        <td>Model:</td>              <td>Logit</td>           <td>Method:</td>          <td>MLE</td>   \n",
       "</tr>\n",
       "<tr>\n",
       "  <td>Dependent Variable:</td>     <td>Purchased</td>    <td>Pseudo R-squared:</td>    <td>0.356</td>  \n",
       "</tr>\n",
       "<tr>\n",
       "         <td>Date:</td>        <td>2024-09-17 22:19</td>       <td>AIC:</td>         <td>342.1413</td> \n",
       "</tr>\n",
       "<tr>\n",
       "   <td>No. Observations:</td>         <td>400</td>             <td>BIC:</td>         <td>354.1157</td> \n",
       "</tr>\n",
       "<tr>\n",
       "       <td>Df Model:</td>              <td>2</td>         <td>Log-Likelihood:</td>    <td>-168.07</td> \n",
       "</tr>\n",
       "<tr>\n",
       "     <td>Df Residuals:</td>           <td>397</td>           <td>LL-Null:</td>        <td>-260.79</td> \n",
       "</tr>\n",
       "<tr>\n",
       "      <td>Converged:</td>           <td>1.0000</td>        <td>LLR p-value:</td>    <td>5.4203e-41</td>\n",
       "</tr>\n",
       "<tr>\n",
       "    <td>No. Iterations:</td>        <td>7.0000</td>           <td>Scale:</td>         <td>1.0000</td>  \n",
       "</tr>\n",
       "</table>\n",
       "<table class=\"simpletable\">\n",
       "<tr>\n",
       "        <td></td>         <th>Coef.</th>  <th>Std.Err.</th>     <th>z</th>     <th>P>|z|</th> <th>[0.025</th>  <th>0.975]</th> \n",
       "</tr>\n",
       "<tr>\n",
       "  <th>Age</th>           <td>0.1895</td>   <td>0.0193</td>   <td>9.8421</td>  <td>0.0000</td> <td>0.1518</td>  <td>0.2273</td> \n",
       "</tr>\n",
       "<tr>\n",
       "  <th>Gender_Female</th> <td>-8.1154</td>  <td>0.8138</td>   <td>-9.9725</td> <td>0.0000</td> <td>-9.7103</td> <td>-6.5204</td>\n",
       "</tr>\n",
       "<tr>\n",
       "  <th>Gender_Male</th>   <td>-8.0207</td>  <td>0.7870</td>  <td>-10.1914</td> <td>0.0000</td> <td>-9.5632</td> <td>-6.4782</td>\n",
       "</tr>\n",
       "</table><br/>\n"
      ],
      "text/latex": [
       "\\begin{table}\n",
       "\\caption{Results: Logit}\n",
       "\\label{}\n",
       "\\begin{center}\n",
       "\\begin{tabular}{llll}\n",
       "\\hline\n",
       "Model:              & Logit            & Method:           & MLE         \\\\\n",
       "Dependent Variable: & Purchased        & Pseudo R-squared: & 0.356       \\\\\n",
       "Date:               & 2024-09-17 22:19 & AIC:              & 342.1413    \\\\\n",
       "No. Observations:   & 400              & BIC:              & 354.1157    \\\\\n",
       "Df Model:           & 2                & Log-Likelihood:   & -168.07     \\\\\n",
       "Df Residuals:       & 397              & LL-Null:          & -260.79     \\\\\n",
       "Converged:          & 1.0000           & LLR p-value:      & 5.4203e-41  \\\\\n",
       "No. Iterations:     & 7.0000           & Scale:            & 1.0000      \\\\\n",
       "\\hline\n",
       "\\end{tabular}\n",
       "\\end{center}\n",
       "\n",
       "\\begin{center}\n",
       "\\begin{tabular}{lrrrrrr}\n",
       "\\hline\n",
       "               &   Coef. & Std.Err. &        z & P$> |$z$|$ &  [0.025 &  0.975]  \\\\\n",
       "\\hline\n",
       "Age            &  0.1895 &   0.0193 &   9.8421 &      0.0000 &  0.1518 &  0.2273  \\\\\n",
       "Gender\\_Female & -8.1154 &   0.8138 &  -9.9725 &      0.0000 & -9.7103 & -6.5204  \\\\\n",
       "Gender\\_Male   & -8.0207 &   0.7870 & -10.1914 &      0.0000 & -9.5632 & -6.4782  \\\\\n",
       "\\hline\n",
       "\\end{tabular}\n",
       "\\end{center}\n",
       "\\end{table}\n",
       "\\bigskip\n"
      ],
      "text/plain": [
       "<class 'statsmodels.iolib.summary2.Summary'>\n",
       "\"\"\"\n",
       "                         Results: Logit\n",
       "=================================================================\n",
       "Model:              Logit            Method:           MLE       \n",
       "Dependent Variable: Purchased        Pseudo R-squared: 0.356     \n",
       "Date:               2024-09-17 22:19 AIC:              342.1413  \n",
       "No. Observations:   400              BIC:              354.1157  \n",
       "Df Model:           2                Log-Likelihood:   -168.07   \n",
       "Df Residuals:       397              LL-Null:          -260.79   \n",
       "Converged:          1.0000           LLR p-value:      5.4203e-41\n",
       "No. Iterations:     7.0000           Scale:            1.0000    \n",
       "-----------------------------------------------------------------\n",
       "                  Coef.  Std.Err.    z     P>|z|   [0.025  0.975]\n",
       "-----------------------------------------------------------------\n",
       "Age               0.1895   0.0193   9.8421 0.0000  0.1518  0.2273\n",
       "Gender_Female    -8.1154   0.8138  -9.9725 0.0000 -9.7103 -6.5204\n",
       "Gender_Male      -8.0207   0.7870 -10.1914 0.0000 -9.5632 -6.4782\n",
       "=================================================================\n",
       "\n",
       "\"\"\""
      ]
     },
     "execution_count": 49,
     "metadata": {},
     "output_type": "execute_result"
    }
   ],
   "source": [
    "X2 = X.drop('EstimatedSalary', axis = 1)\n",
    "columns2 = X2.columns.values.tolist()\n",
    "logit_model2 = sm.Logit(Y, X2)\n",
    "result2 = logit_model2.fit()\n",
    "result2.summary2()"
   ]
  },
  {
   "cell_type": "markdown",
   "id": "06e086b1-ea46-4d79-a083-8403f6af7c04",
   "metadata": {},
   "source": [
    "The current model results in a worse fit compared to the previous one, as evidenced by the higher AIC and BIC values. Additionally, the Pseudo R-squared is lower. Therefore, we will select the initial model, as it provides a better fit."
   ]
  },
  {
   "cell_type": "markdown",
   "id": "a9e0bd1b-06ab-4127-b6d8-5bdee6c8d961",
   "metadata": {},
   "source": [
    "Model implementation with scikit-learn:"
   ]
  },
  {
   "cell_type": "code",
   "execution_count": 50,
   "id": "9d1bfaf0-f3ce-48bb-8efa-2a817d325b99",
   "metadata": {},
   "outputs": [],
   "source": [
    "from sklearn import linear_model"
   ]
  },
  {
   "cell_type": "code",
   "execution_count": 51,
   "id": "dbba5bc4-7fcd-47dd-9f80-a1d7369b2f9d",
   "metadata": {},
   "outputs": [
    {
     "name": "stdout",
     "output_type": "stream",
     "text": [
      "0.8425\n",
      "By default it has been selected a threshold of 0,5\n"
     ]
    },
    {
     "name": "stderr",
     "output_type": "stream",
     "text": [
      "C:\\Users\\victo\\anaconda3\\envs\\Data_Science\\Lib\\site-packages\\sklearn\\linear_model\\_logistic.py:469: ConvergenceWarning: lbfgs failed to converge (status=1):\n",
      "STOP: TOTAL NO. of ITERATIONS REACHED LIMIT.\n",
      "\n",
      "Increase the number of iterations (max_iter) or scale the data as shown in:\n",
      "    https://scikit-learn.org/stable/modules/preprocessing.html\n",
      "Please also refer to the documentation for alternative solver options:\n",
      "    https://scikit-learn.org/stable/modules/linear_model.html#logistic-regression\n",
      "  n_iter_i = _check_optimize_result(\n"
     ]
    }
   ],
   "source": [
    "logit_model = linear_model.LogisticRegression()\n",
    "logit_model.fit(X,Y)\n",
    "print(logit_model.score(X,Y))\n",
    "print(\"By default it has been selected a threshold of 0,5\")"
   ]
  },
  {
   "cell_type": "code",
   "execution_count": 52,
   "id": "6d98c02a-5ed7-4490-8f40-f1f2c4021f38",
   "metadata": {},
   "outputs": [
    {
     "name": "stdout",
     "output_type": "stream",
     "text": [
      "Percentage of people that buy: 35.75\n",
      "Percentage of people that don't buy:64.25\n"
     ]
    }
   ],
   "source": [
    "print(f\"Percentage of people that buy: {df['Purchased'].sum()*100/len(df)}\")\n",
    "print(f\"Percentage of people that don't buy:{(1-df['Purchased'].sum()/len(df))*100}\")"
   ]
  },
  {
   "cell_type": "markdown",
   "id": "ccbbac96-14c8-447c-bd45-1f6d813bcf27",
   "metadata": {},
   "source": [
    "Our model provides a better result compared to one that only computes the probabilities of buying without considering the other features in the dataset."
   ]
  },
  {
   "cell_type": "markdown",
   "id": "c91a94ec-a9e4-4f7e-9476-795eef27bb7b",
   "metadata": {},
   "source": [
    "Let's create a new model and validate it to ensure its performance before finalizing it."
   ]
  },
  {
   "cell_type": "code",
   "execution_count": 53,
   "id": "873f0690-f9e4-4574-9b8f-1a2d75476080",
   "metadata": {},
   "outputs": [],
   "source": [
    "from sklearn.model_selection import train_test_split\n",
    "X_train, X_test, Y_train, Y_test = train_test_split(X,Y, test_size = 0.3, random_state=0)"
   ]
  },
  {
   "cell_type": "code",
   "execution_count": 54,
   "id": "4386e7db-bb5e-49bf-8666-f94829b9113c",
   "metadata": {},
   "outputs": [
    {
     "name": "stderr",
     "output_type": "stream",
     "text": [
      "C:\\Users\\victo\\anaconda3\\envs\\Data_Science\\Lib\\site-packages\\sklearn\\linear_model\\_logistic.py:469: ConvergenceWarning: lbfgs failed to converge (status=1):\n",
      "STOP: TOTAL NO. of ITERATIONS REACHED LIMIT.\n",
      "\n",
      "Increase the number of iterations (max_iter) or scale the data as shown in:\n",
      "    https://scikit-learn.org/stable/modules/preprocessing.html\n",
      "Please also refer to the documentation for alternative solver options:\n",
      "    https://scikit-learn.org/stable/modules/linear_model.html#logistic-regression\n",
      "  n_iter_i = _check_optimize_result(\n"
     ]
    },
    {
     "data": {
      "text/html": [
       "<style>#sk-container-id-1 {\n",
       "  /* Definition of color scheme common for light and dark mode */\n",
       "  --sklearn-color-text: black;\n",
       "  --sklearn-color-line: gray;\n",
       "  /* Definition of color scheme for unfitted estimators */\n",
       "  --sklearn-color-unfitted-level-0: #fff5e6;\n",
       "  --sklearn-color-unfitted-level-1: #f6e4d2;\n",
       "  --sklearn-color-unfitted-level-2: #ffe0b3;\n",
       "  --sklearn-color-unfitted-level-3: chocolate;\n",
       "  /* Definition of color scheme for fitted estimators */\n",
       "  --sklearn-color-fitted-level-0: #f0f8ff;\n",
       "  --sklearn-color-fitted-level-1: #d4ebff;\n",
       "  --sklearn-color-fitted-level-2: #b3dbfd;\n",
       "  --sklearn-color-fitted-level-3: cornflowerblue;\n",
       "\n",
       "  /* Specific color for light theme */\n",
       "  --sklearn-color-text-on-default-background: var(--sg-text-color, var(--theme-code-foreground, var(--jp-content-font-color1, black)));\n",
       "  --sklearn-color-background: var(--sg-background-color, var(--theme-background, var(--jp-layout-color0, white)));\n",
       "  --sklearn-color-border-box: var(--sg-text-color, var(--theme-code-foreground, var(--jp-content-font-color1, black)));\n",
       "  --sklearn-color-icon: #696969;\n",
       "\n",
       "  @media (prefers-color-scheme: dark) {\n",
       "    /* Redefinition of color scheme for dark theme */\n",
       "    --sklearn-color-text-on-default-background: var(--sg-text-color, var(--theme-code-foreground, var(--jp-content-font-color1, white)));\n",
       "    --sklearn-color-background: var(--sg-background-color, var(--theme-background, var(--jp-layout-color0, #111)));\n",
       "    --sklearn-color-border-box: var(--sg-text-color, var(--theme-code-foreground, var(--jp-content-font-color1, white)));\n",
       "    --sklearn-color-icon: #878787;\n",
       "  }\n",
       "}\n",
       "\n",
       "#sk-container-id-1 {\n",
       "  color: var(--sklearn-color-text);\n",
       "}\n",
       "\n",
       "#sk-container-id-1 pre {\n",
       "  padding: 0;\n",
       "}\n",
       "\n",
       "#sk-container-id-1 input.sk-hidden--visually {\n",
       "  border: 0;\n",
       "  clip: rect(1px 1px 1px 1px);\n",
       "  clip: rect(1px, 1px, 1px, 1px);\n",
       "  height: 1px;\n",
       "  margin: -1px;\n",
       "  overflow: hidden;\n",
       "  padding: 0;\n",
       "  position: absolute;\n",
       "  width: 1px;\n",
       "}\n",
       "\n",
       "#sk-container-id-1 div.sk-dashed-wrapped {\n",
       "  border: 1px dashed var(--sklearn-color-line);\n",
       "  margin: 0 0.4em 0.5em 0.4em;\n",
       "  box-sizing: border-box;\n",
       "  padding-bottom: 0.4em;\n",
       "  background-color: var(--sklearn-color-background);\n",
       "}\n",
       "\n",
       "#sk-container-id-1 div.sk-container {\n",
       "  /* jupyter's `normalize.less` sets `[hidden] { display: none; }`\n",
       "     but bootstrap.min.css set `[hidden] { display: none !important; }`\n",
       "     so we also need the `!important` here to be able to override the\n",
       "     default hidden behavior on the sphinx rendered scikit-learn.org.\n",
       "     See: https://github.com/scikit-learn/scikit-learn/issues/21755 */\n",
       "  display: inline-block !important;\n",
       "  position: relative;\n",
       "}\n",
       "\n",
       "#sk-container-id-1 div.sk-text-repr-fallback {\n",
       "  display: none;\n",
       "}\n",
       "\n",
       "div.sk-parallel-item,\n",
       "div.sk-serial,\n",
       "div.sk-item {\n",
       "  /* draw centered vertical line to link estimators */\n",
       "  background-image: linear-gradient(var(--sklearn-color-text-on-default-background), var(--sklearn-color-text-on-default-background));\n",
       "  background-size: 2px 100%;\n",
       "  background-repeat: no-repeat;\n",
       "  background-position: center center;\n",
       "}\n",
       "\n",
       "/* Parallel-specific style estimator block */\n",
       "\n",
       "#sk-container-id-1 div.sk-parallel-item::after {\n",
       "  content: \"\";\n",
       "  width: 100%;\n",
       "  border-bottom: 2px solid var(--sklearn-color-text-on-default-background);\n",
       "  flex-grow: 1;\n",
       "}\n",
       "\n",
       "#sk-container-id-1 div.sk-parallel {\n",
       "  display: flex;\n",
       "  align-items: stretch;\n",
       "  justify-content: center;\n",
       "  background-color: var(--sklearn-color-background);\n",
       "  position: relative;\n",
       "}\n",
       "\n",
       "#sk-container-id-1 div.sk-parallel-item {\n",
       "  display: flex;\n",
       "  flex-direction: column;\n",
       "}\n",
       "\n",
       "#sk-container-id-1 div.sk-parallel-item:first-child::after {\n",
       "  align-self: flex-end;\n",
       "  width: 50%;\n",
       "}\n",
       "\n",
       "#sk-container-id-1 div.sk-parallel-item:last-child::after {\n",
       "  align-self: flex-start;\n",
       "  width: 50%;\n",
       "}\n",
       "\n",
       "#sk-container-id-1 div.sk-parallel-item:only-child::after {\n",
       "  width: 0;\n",
       "}\n",
       "\n",
       "/* Serial-specific style estimator block */\n",
       "\n",
       "#sk-container-id-1 div.sk-serial {\n",
       "  display: flex;\n",
       "  flex-direction: column;\n",
       "  align-items: center;\n",
       "  background-color: var(--sklearn-color-background);\n",
       "  padding-right: 1em;\n",
       "  padding-left: 1em;\n",
       "}\n",
       "\n",
       "\n",
       "/* Toggleable style: style used for estimator/Pipeline/ColumnTransformer box that is\n",
       "clickable and can be expanded/collapsed.\n",
       "- Pipeline and ColumnTransformer use this feature and define the default style\n",
       "- Estimators will overwrite some part of the style using the `sk-estimator` class\n",
       "*/\n",
       "\n",
       "/* Pipeline and ColumnTransformer style (default) */\n",
       "\n",
       "#sk-container-id-1 div.sk-toggleable {\n",
       "  /* Default theme specific background. It is overwritten whether we have a\n",
       "  specific estimator or a Pipeline/ColumnTransformer */\n",
       "  background-color: var(--sklearn-color-background);\n",
       "}\n",
       "\n",
       "/* Toggleable label */\n",
       "#sk-container-id-1 label.sk-toggleable__label {\n",
       "  cursor: pointer;\n",
       "  display: block;\n",
       "  width: 100%;\n",
       "  margin-bottom: 0;\n",
       "  padding: 0.5em;\n",
       "  box-sizing: border-box;\n",
       "  text-align: center;\n",
       "}\n",
       "\n",
       "#sk-container-id-1 label.sk-toggleable__label-arrow:before {\n",
       "  /* Arrow on the left of the label */\n",
       "  content: \"▸\";\n",
       "  float: left;\n",
       "  margin-right: 0.25em;\n",
       "  color: var(--sklearn-color-icon);\n",
       "}\n",
       "\n",
       "#sk-container-id-1 label.sk-toggleable__label-arrow:hover:before {\n",
       "  color: var(--sklearn-color-text);\n",
       "}\n",
       "\n",
       "/* Toggleable content - dropdown */\n",
       "\n",
       "#sk-container-id-1 div.sk-toggleable__content {\n",
       "  max-height: 0;\n",
       "  max-width: 0;\n",
       "  overflow: hidden;\n",
       "  text-align: left;\n",
       "  /* unfitted */\n",
       "  background-color: var(--sklearn-color-unfitted-level-0);\n",
       "}\n",
       "\n",
       "#sk-container-id-1 div.sk-toggleable__content.fitted {\n",
       "  /* fitted */\n",
       "  background-color: var(--sklearn-color-fitted-level-0);\n",
       "}\n",
       "\n",
       "#sk-container-id-1 div.sk-toggleable__content pre {\n",
       "  margin: 0.2em;\n",
       "  border-radius: 0.25em;\n",
       "  color: var(--sklearn-color-text);\n",
       "  /* unfitted */\n",
       "  background-color: var(--sklearn-color-unfitted-level-0);\n",
       "}\n",
       "\n",
       "#sk-container-id-1 div.sk-toggleable__content.fitted pre {\n",
       "  /* unfitted */\n",
       "  background-color: var(--sklearn-color-fitted-level-0);\n",
       "}\n",
       "\n",
       "#sk-container-id-1 input.sk-toggleable__control:checked~div.sk-toggleable__content {\n",
       "  /* Expand drop-down */\n",
       "  max-height: 200px;\n",
       "  max-width: 100%;\n",
       "  overflow: auto;\n",
       "}\n",
       "\n",
       "#sk-container-id-1 input.sk-toggleable__control:checked~label.sk-toggleable__label-arrow:before {\n",
       "  content: \"▾\";\n",
       "}\n",
       "\n",
       "/* Pipeline/ColumnTransformer-specific style */\n",
       "\n",
       "#sk-container-id-1 div.sk-label input.sk-toggleable__control:checked~label.sk-toggleable__label {\n",
       "  color: var(--sklearn-color-text);\n",
       "  background-color: var(--sklearn-color-unfitted-level-2);\n",
       "}\n",
       "\n",
       "#sk-container-id-1 div.sk-label.fitted input.sk-toggleable__control:checked~label.sk-toggleable__label {\n",
       "  background-color: var(--sklearn-color-fitted-level-2);\n",
       "}\n",
       "\n",
       "/* Estimator-specific style */\n",
       "\n",
       "/* Colorize estimator box */\n",
       "#sk-container-id-1 div.sk-estimator input.sk-toggleable__control:checked~label.sk-toggleable__label {\n",
       "  /* unfitted */\n",
       "  background-color: var(--sklearn-color-unfitted-level-2);\n",
       "}\n",
       "\n",
       "#sk-container-id-1 div.sk-estimator.fitted input.sk-toggleable__control:checked~label.sk-toggleable__label {\n",
       "  /* fitted */\n",
       "  background-color: var(--sklearn-color-fitted-level-2);\n",
       "}\n",
       "\n",
       "#sk-container-id-1 div.sk-label label.sk-toggleable__label,\n",
       "#sk-container-id-1 div.sk-label label {\n",
       "  /* The background is the default theme color */\n",
       "  color: var(--sklearn-color-text-on-default-background);\n",
       "}\n",
       "\n",
       "/* On hover, darken the color of the background */\n",
       "#sk-container-id-1 div.sk-label:hover label.sk-toggleable__label {\n",
       "  color: var(--sklearn-color-text);\n",
       "  background-color: var(--sklearn-color-unfitted-level-2);\n",
       "}\n",
       "\n",
       "/* Label box, darken color on hover, fitted */\n",
       "#sk-container-id-1 div.sk-label.fitted:hover label.sk-toggleable__label.fitted {\n",
       "  color: var(--sklearn-color-text);\n",
       "  background-color: var(--sklearn-color-fitted-level-2);\n",
       "}\n",
       "\n",
       "/* Estimator label */\n",
       "\n",
       "#sk-container-id-1 div.sk-label label {\n",
       "  font-family: monospace;\n",
       "  font-weight: bold;\n",
       "  display: inline-block;\n",
       "  line-height: 1.2em;\n",
       "}\n",
       "\n",
       "#sk-container-id-1 div.sk-label-container {\n",
       "  text-align: center;\n",
       "}\n",
       "\n",
       "/* Estimator-specific */\n",
       "#sk-container-id-1 div.sk-estimator {\n",
       "  font-family: monospace;\n",
       "  border: 1px dotted var(--sklearn-color-border-box);\n",
       "  border-radius: 0.25em;\n",
       "  box-sizing: border-box;\n",
       "  margin-bottom: 0.5em;\n",
       "  /* unfitted */\n",
       "  background-color: var(--sklearn-color-unfitted-level-0);\n",
       "}\n",
       "\n",
       "#sk-container-id-1 div.sk-estimator.fitted {\n",
       "  /* fitted */\n",
       "  background-color: var(--sklearn-color-fitted-level-0);\n",
       "}\n",
       "\n",
       "/* on hover */\n",
       "#sk-container-id-1 div.sk-estimator:hover {\n",
       "  /* unfitted */\n",
       "  background-color: var(--sklearn-color-unfitted-level-2);\n",
       "}\n",
       "\n",
       "#sk-container-id-1 div.sk-estimator.fitted:hover {\n",
       "  /* fitted */\n",
       "  background-color: var(--sklearn-color-fitted-level-2);\n",
       "}\n",
       "\n",
       "/* Specification for estimator info (e.g. \"i\" and \"?\") */\n",
       "\n",
       "/* Common style for \"i\" and \"?\" */\n",
       "\n",
       ".sk-estimator-doc-link,\n",
       "a:link.sk-estimator-doc-link,\n",
       "a:visited.sk-estimator-doc-link {\n",
       "  float: right;\n",
       "  font-size: smaller;\n",
       "  line-height: 1em;\n",
       "  font-family: monospace;\n",
       "  background-color: var(--sklearn-color-background);\n",
       "  border-radius: 1em;\n",
       "  height: 1em;\n",
       "  width: 1em;\n",
       "  text-decoration: none !important;\n",
       "  margin-left: 1ex;\n",
       "  /* unfitted */\n",
       "  border: var(--sklearn-color-unfitted-level-1) 1pt solid;\n",
       "  color: var(--sklearn-color-unfitted-level-1);\n",
       "}\n",
       "\n",
       ".sk-estimator-doc-link.fitted,\n",
       "a:link.sk-estimator-doc-link.fitted,\n",
       "a:visited.sk-estimator-doc-link.fitted {\n",
       "  /* fitted */\n",
       "  border: var(--sklearn-color-fitted-level-1) 1pt solid;\n",
       "  color: var(--sklearn-color-fitted-level-1);\n",
       "}\n",
       "\n",
       "/* On hover */\n",
       "div.sk-estimator:hover .sk-estimator-doc-link:hover,\n",
       ".sk-estimator-doc-link:hover,\n",
       "div.sk-label-container:hover .sk-estimator-doc-link:hover,\n",
       ".sk-estimator-doc-link:hover {\n",
       "  /* unfitted */\n",
       "  background-color: var(--sklearn-color-unfitted-level-3);\n",
       "  color: var(--sklearn-color-background);\n",
       "  text-decoration: none;\n",
       "}\n",
       "\n",
       "div.sk-estimator.fitted:hover .sk-estimator-doc-link.fitted:hover,\n",
       ".sk-estimator-doc-link.fitted:hover,\n",
       "div.sk-label-container:hover .sk-estimator-doc-link.fitted:hover,\n",
       ".sk-estimator-doc-link.fitted:hover {\n",
       "  /* fitted */\n",
       "  background-color: var(--sklearn-color-fitted-level-3);\n",
       "  color: var(--sklearn-color-background);\n",
       "  text-decoration: none;\n",
       "}\n",
       "\n",
       "/* Span, style for the box shown on hovering the info icon */\n",
       ".sk-estimator-doc-link span {\n",
       "  display: none;\n",
       "  z-index: 9999;\n",
       "  position: relative;\n",
       "  font-weight: normal;\n",
       "  right: .2ex;\n",
       "  padding: .5ex;\n",
       "  margin: .5ex;\n",
       "  width: min-content;\n",
       "  min-width: 20ex;\n",
       "  max-width: 50ex;\n",
       "  color: var(--sklearn-color-text);\n",
       "  box-shadow: 2pt 2pt 4pt #999;\n",
       "  /* unfitted */\n",
       "  background: var(--sklearn-color-unfitted-level-0);\n",
       "  border: .5pt solid var(--sklearn-color-unfitted-level-3);\n",
       "}\n",
       "\n",
       ".sk-estimator-doc-link.fitted span {\n",
       "  /* fitted */\n",
       "  background: var(--sklearn-color-fitted-level-0);\n",
       "  border: var(--sklearn-color-fitted-level-3);\n",
       "}\n",
       "\n",
       ".sk-estimator-doc-link:hover span {\n",
       "  display: block;\n",
       "}\n",
       "\n",
       "/* \"?\"-specific style due to the `<a>` HTML tag */\n",
       "\n",
       "#sk-container-id-1 a.estimator_doc_link {\n",
       "  float: right;\n",
       "  font-size: 1rem;\n",
       "  line-height: 1em;\n",
       "  font-family: monospace;\n",
       "  background-color: var(--sklearn-color-background);\n",
       "  border-radius: 1rem;\n",
       "  height: 1rem;\n",
       "  width: 1rem;\n",
       "  text-decoration: none;\n",
       "  /* unfitted */\n",
       "  color: var(--sklearn-color-unfitted-level-1);\n",
       "  border: var(--sklearn-color-unfitted-level-1) 1pt solid;\n",
       "}\n",
       "\n",
       "#sk-container-id-1 a.estimator_doc_link.fitted {\n",
       "  /* fitted */\n",
       "  border: var(--sklearn-color-fitted-level-1) 1pt solid;\n",
       "  color: var(--sklearn-color-fitted-level-1);\n",
       "}\n",
       "\n",
       "/* On hover */\n",
       "#sk-container-id-1 a.estimator_doc_link:hover {\n",
       "  /* unfitted */\n",
       "  background-color: var(--sklearn-color-unfitted-level-3);\n",
       "  color: var(--sklearn-color-background);\n",
       "  text-decoration: none;\n",
       "}\n",
       "\n",
       "#sk-container-id-1 a.estimator_doc_link.fitted:hover {\n",
       "  /* fitted */\n",
       "  background-color: var(--sklearn-color-fitted-level-3);\n",
       "}\n",
       "</style><div id=\"sk-container-id-1\" class=\"sk-top-container\"><div class=\"sk-text-repr-fallback\"><pre>LogisticRegression()</pre><b>In a Jupyter environment, please rerun this cell to show the HTML representation or trust the notebook. <br />On GitHub, the HTML representation is unable to render, please try loading this page with nbviewer.org.</b></div><div class=\"sk-container\" hidden><div class=\"sk-item\"><div class=\"sk-estimator fitted sk-toggleable\"><input class=\"sk-toggleable__control sk-hidden--visually\" id=\"sk-estimator-id-1\" type=\"checkbox\" checked><label for=\"sk-estimator-id-1\" class=\"sk-toggleable__label fitted sk-toggleable__label-arrow fitted\">&nbsp;&nbsp;LogisticRegression<a class=\"sk-estimator-doc-link fitted\" rel=\"noreferrer\" target=\"_blank\" href=\"https://scikit-learn.org/1.5/modules/generated/sklearn.linear_model.LogisticRegression.html\">?<span>Documentation for LogisticRegression</span></a><span class=\"sk-estimator-doc-link fitted\">i<span>Fitted</span></span></label><div class=\"sk-toggleable__content fitted\"><pre>LogisticRegression()</pre></div> </div></div></div></div>"
      ],
      "text/plain": [
       "LogisticRegression()"
      ]
     },
     "execution_count": 54,
     "metadata": {},
     "output_type": "execute_result"
    }
   ],
   "source": [
    "lm = linear_model.LogisticRegression()\n",
    "lm.fit(X_train, Y_train)"
   ]
  },
  {
   "cell_type": "code",
   "execution_count": 55,
   "id": "4058b89c-1f65-444f-a625-a22e49e8d3a0",
   "metadata": {},
   "outputs": [
    {
     "name": "stdout",
     "output_type": "stream",
     "text": [
      "[0 1]\n"
     ]
    },
    {
     "data": {
      "text/plain": [
       "array([[0.84132266, 0.15867734],\n",
       "       [0.8074475 , 0.1925525 ],\n",
       "       [0.75533997, 0.24466003],\n",
       "       [0.88600999, 0.11399001],\n",
       "       [0.87438803, 0.12561197],\n",
       "       [0.9796008 , 0.0203992 ],\n",
       "       [0.97075696, 0.02924304],\n",
       "       [0.3123794 , 0.6876206 ],\n",
       "       [0.9873386 , 0.0126614 ],\n",
       "       [0.47761653, 0.52238347],\n",
       "       [0.93279429, 0.06720571],\n",
       "       [0.95240576, 0.04759424],\n",
       "       [0.78514521, 0.21485479],\n",
       "       [0.59890218, 0.40109782],\n",
       "       [0.96716324, 0.03283676],\n",
       "       [0.67926912, 0.32073088],\n",
       "       [0.67672712, 0.32327288],\n",
       "       [0.97280319, 0.02719681],\n",
       "       [0.03034224, 0.96965776],\n",
       "       [0.92197488, 0.07802512],\n",
       "       [0.88249784, 0.11750216],\n",
       "       [0.07817328, 0.92182672],\n",
       "       [0.7112304 , 0.2887696 ],\n",
       "       [0.15980208, 0.84019792],\n",
       "       [0.98927858, 0.01072142],\n",
       "       [0.06126441, 0.93873559],\n",
       "       [0.89897628, 0.10102372],\n",
       "       [0.88229156, 0.11770844],\n",
       "       [0.78559195, 0.21440805],\n",
       "       [0.82280506, 0.17719494],\n",
       "       [0.9594269 , 0.0405731 ],\n",
       "       [0.66554918, 0.33445082],\n",
       "       [0.09890071, 0.90109929],\n",
       "       [0.79356583, 0.20643417],\n",
       "       [0.96820525, 0.03179475],\n",
       "       [0.9898665 , 0.0101335 ],\n",
       "       [0.95974996, 0.04025004],\n",
       "       [0.90775581, 0.09224419],\n",
       "       [0.95352595, 0.04647405],\n",
       "       [0.48243687, 0.51756313],\n",
       "       [0.89563099, 0.10436901],\n",
       "       [0.66732752, 0.33267248],\n",
       "       [0.919147  , 0.080853  ],\n",
       "       [0.92554141, 0.07445859],\n",
       "       [0.27263502, 0.72736498],\n",
       "       [0.95644695, 0.04355305],\n",
       "       [0.69903752, 0.30096248],\n",
       "       [0.12514204, 0.87485796],\n",
       "       [0.97784624, 0.02215376],\n",
       "       [0.17998963, 0.82001037],\n",
       "       [0.02660512, 0.97339488],\n",
       "       [0.9394812 , 0.0605188 ],\n",
       "       [0.85359205, 0.14640795],\n",
       "       [0.57034646, 0.42965354],\n",
       "       [0.04408549, 0.95591451],\n",
       "       [0.62874862, 0.37125138],\n",
       "       [0.89266527, 0.10733473],\n",
       "       [0.93708857, 0.06291143],\n",
       "       [0.48810041, 0.51189959],\n",
       "       [0.98951642, 0.01048358],\n",
       "       [0.95595934, 0.04404066],\n",
       "       [0.09444941, 0.90555059],\n",
       "       [0.97822551, 0.02177449],\n",
       "       [0.58675714, 0.41324286],\n",
       "       [0.99478578, 0.00521422],\n",
       "       [0.03561321, 0.96438679],\n",
       "       [0.94326786, 0.05673214],\n",
       "       [0.94830549, 0.05169451],\n",
       "       [0.72942027, 0.27057973],\n",
       "       [0.5624881 , 0.4375119 ],\n",
       "       [0.47869105, 0.52130895],\n",
       "       [0.77843511, 0.22156489],\n",
       "       [0.97827485, 0.02172515],\n",
       "       [0.68570065, 0.31429935],\n",
       "       [0.89323994, 0.10676006],\n",
       "       [0.97858454, 0.02141546],\n",
       "       [0.50583654, 0.49416346],\n",
       "       [0.69896784, 0.30103216],\n",
       "       [0.33283522, 0.66716478],\n",
       "       [0.17793084, 0.82206916],\n",
       "       [0.01092538, 0.98907462],\n",
       "       [0.04974047, 0.95025953],\n",
       "       [0.97520574, 0.02479426],\n",
       "       [0.97897192, 0.02102808],\n",
       "       [0.162277  , 0.837723  ],\n",
       "       [0.49950573, 0.50049427],\n",
       "       [0.6136125 , 0.3863875 ],\n",
       "       [0.01312429, 0.98687571],\n",
       "       [0.5768644 , 0.4231356 ],\n",
       "       [0.66227489, 0.33772511],\n",
       "       [0.55559209, 0.44440791],\n",
       "       [0.30392296, 0.69607704],\n",
       "       [0.98233324, 0.01766676],\n",
       "       [0.97977318, 0.02022682],\n",
       "       [0.94034734, 0.05965266],\n",
       "       [0.89349241, 0.10650759],\n",
       "       [0.96948245, 0.03051755],\n",
       "       [0.49867756, 0.50132244],\n",
       "       [0.19019004, 0.80980996],\n",
       "       [0.31223713, 0.68776287],\n",
       "       [0.66784215, 0.33215785],\n",
       "       [0.62117103, 0.37882897],\n",
       "       [0.8074475 , 0.1925525 ],\n",
       "       [0.57311636, 0.42688364],\n",
       "       [0.45085067, 0.54914933],\n",
       "       [0.07812556, 0.92187444],\n",
       "       [0.78368035, 0.21631965],\n",
       "       [0.7261192 , 0.2738808 ],\n",
       "       [0.85463014, 0.14536986],\n",
       "       [0.80879068, 0.19120932],\n",
       "       [0.92913219, 0.07086781],\n",
       "       [0.85326053, 0.14673947],\n",
       "       [0.49884317, 0.50115683],\n",
       "       [0.48460007, 0.51539993],\n",
       "       [0.17045542, 0.82954458],\n",
       "       [0.27197859, 0.72802141],\n",
       "       [0.14181031, 0.85818969],\n",
       "       [0.83595515, 0.16404485],\n",
       "       [0.32554978, 0.67445022],\n",
       "       [0.47196249, 0.52803751]])"
      ]
     },
     "execution_count": 55,
     "metadata": {},
     "output_type": "execute_result"
    }
   ],
   "source": [
    "#Probabilities of belonging to class 0 (not purchase) or class 1 (purchase)\n",
    "print(lm.classes_)\n",
    "probs = lm.predict_proba(X_test)\n",
    "probs"
   ]
  },
  {
   "cell_type": "code",
   "execution_count": 56,
   "id": "94cc29b6-b94e-4714-9135-e0403f6b5cfe",
   "metadata": {},
   "outputs": [],
   "source": [
    "from IPython.display import display, Math, Latex"
   ]
  },
  {
   "cell_type": "code",
   "execution_count": 57,
   "id": "38188ac3-3048-4087-a352-a5cda870ebae",
   "metadata": {},
   "outputs": [
    {
     "data": {
      "text/latex": [
       "$\\displaystyle Y_p=\\begin{cases}0& si\\ p\\leq0.5\\\\1&si\\ p >0.5\\end{cases}$"
      ],
      "text/plain": [
       "<IPython.core.display.Math object>"
      ]
     },
     "metadata": {},
     "output_type": "display_data"
    }
   ],
   "source": [
    "display(Math(r'Y_p=\\begin{cases}0& si\\ p\\leq0.5\\\\1&si\\ p >0.5\\end{cases}'))"
   ]
  },
  {
   "cell_type": "code",
   "execution_count": 58,
   "id": "1631532c-b1b0-47f0-b6cc-4858336c8707",
   "metadata": {},
   "outputs": [
    {
     "data": {
      "text/plain": [
       "array([0, 0, 0, 0, 0, 0, 0, 1, 0, 1, 0, 0, 0, 0, 0, 0, 0, 0, 1, 0, 0, 1,\n",
       "       0, 1, 0, 1, 0, 0, 0, 0, 0, 0, 1, 0, 0, 0, 0, 0, 0, 1, 0, 0, 0, 0,\n",
       "       1, 0, 0, 1, 0, 1, 1, 0, 0, 0, 1, 0, 0, 0, 1, 0, 0, 1, 0, 0, 0, 1,\n",
       "       0, 0, 0, 0, 1, 0, 0, 0, 0, 0, 0, 0, 1, 1, 1, 1, 0, 0, 1, 1, 0, 1,\n",
       "       0, 0, 0, 1, 0, 0, 0, 0, 0, 1, 1, 1, 0, 0, 0, 0, 1, 1, 0, 0, 0, 0,\n",
       "       0, 0, 1, 1, 1, 1, 1, 0, 1, 1])"
      ]
     },
     "execution_count": 58,
     "metadata": {},
     "output_type": "execute_result"
    }
   ],
   "source": [
    "prediction = lm.predict(X_test)\n",
    "prediction"
   ]
  },
  {
   "cell_type": "code",
   "execution_count": 59,
   "id": "002c24f9-1d32-4908-b790-341959a2f01a",
   "metadata": {},
   "outputs": [
    {
     "data": {
      "text/latex": [
       "$\\displaystyle \\varepsilon\\in (0,1), Y_p=\\begin{cases}0& si\\ p\\leq \\varepsilon\\\\1&si\\ p >\\varepsilon\\end{cases}$"
      ],
      "text/plain": [
       "<IPython.core.display.Math object>"
      ]
     },
     "metadata": {},
     "output_type": "display_data"
    }
   ],
   "source": [
    "display(Math(r'\\varepsilon\\in (0,1), Y_p=\\begin{cases}0& si\\ p\\leq \\varepsilon\\\\1&si\\ p >\\varepsilon\\end{cases}'))"
   ]
  },
  {
   "cell_type": "code",
   "execution_count": 60,
   "id": "82ce3414-c199-48c8-b0e8-b9907694df04",
   "metadata": {},
   "outputs": [
    {
     "data": {
      "text/html": [
       "<div>\n",
       "<style scoped>\n",
       "    .dataframe tbody tr th:only-of-type {\n",
       "        vertical-align: middle;\n",
       "    }\n",
       "\n",
       "    .dataframe tbody tr th {\n",
       "        vertical-align: top;\n",
       "    }\n",
       "\n",
       "    .dataframe thead th {\n",
       "        text-align: right;\n",
       "    }\n",
       "</style>\n",
       "<table border=\"1\" class=\"dataframe\">\n",
       "  <thead>\n",
       "    <tr style=\"text-align: right;\">\n",
       "      <th></th>\n",
       "      <th>0</th>\n",
       "      <th>prediction</th>\n",
       "    </tr>\n",
       "  </thead>\n",
       "  <tbody>\n",
       "    <tr>\n",
       "      <th>0</th>\n",
       "      <td>0.158677</td>\n",
       "      <td>0</td>\n",
       "    </tr>\n",
       "    <tr>\n",
       "      <th>1</th>\n",
       "      <td>0.192553</td>\n",
       "      <td>0</td>\n",
       "    </tr>\n",
       "    <tr>\n",
       "      <th>2</th>\n",
       "      <td>0.244660</td>\n",
       "      <td>1</td>\n",
       "    </tr>\n",
       "    <tr>\n",
       "      <th>3</th>\n",
       "      <td>0.113990</td>\n",
       "      <td>0</td>\n",
       "    </tr>\n",
       "    <tr>\n",
       "      <th>4</th>\n",
       "      <td>0.125612</td>\n",
       "      <td>0</td>\n",
       "    </tr>\n",
       "    <tr>\n",
       "      <th>...</th>\n",
       "      <td>...</td>\n",
       "      <td>...</td>\n",
       "    </tr>\n",
       "    <tr>\n",
       "      <th>115</th>\n",
       "      <td>0.728021</td>\n",
       "      <td>1</td>\n",
       "    </tr>\n",
       "    <tr>\n",
       "      <th>116</th>\n",
       "      <td>0.858190</td>\n",
       "      <td>1</td>\n",
       "    </tr>\n",
       "    <tr>\n",
       "      <th>117</th>\n",
       "      <td>0.164045</td>\n",
       "      <td>0</td>\n",
       "    </tr>\n",
       "    <tr>\n",
       "      <th>118</th>\n",
       "      <td>0.674450</td>\n",
       "      <td>1</td>\n",
       "    </tr>\n",
       "    <tr>\n",
       "      <th>119</th>\n",
       "      <td>0.528038</td>\n",
       "      <td>1</td>\n",
       "    </tr>\n",
       "  </tbody>\n",
       "</table>\n",
       "<p>120 rows × 2 columns</p>\n",
       "</div>"
      ],
      "text/plain": [
       "            0  prediction\n",
       "0    0.158677           0\n",
       "1    0.192553           0\n",
       "2    0.244660           1\n",
       "3    0.113990           0\n",
       "4    0.125612           0\n",
       "..        ...         ...\n",
       "115  0.728021           1\n",
       "116  0.858190           1\n",
       "117  0.164045           0\n",
       "118  0.674450           1\n",
       "119  0.528038           1\n",
       "\n",
       "[120 rows x 2 columns]"
      ]
     },
     "execution_count": 60,
     "metadata": {},
     "output_type": "execute_result"
    }
   ],
   "source": [
    "#Chnging threshold:\n",
    "prob = probs[:,1]\n",
    "prob_df = pd.DataFrame(prob)\n",
    "threshold = 0.2\n",
    "prob_df[\"prediction\"] = np.where(prob_df[0]>threshold, 1, 0)\n",
    "prob_df"
   ]
  },
  {
   "cell_type": "markdown",
   "id": "b568de02-305d-4d23-90ed-9b576a21a224",
   "metadata": {},
   "source": [
    "Let's choose the best threshold for our model"
   ]
  },
  {
   "cell_type": "code",
   "execution_count": 61,
   "id": "de984320-2b1c-472e-b41d-e9ed20740ed8",
   "metadata": {},
   "outputs": [],
   "source": [
    "# Create thresholds\n",
    "thresholds = np.arange(0, 1, 0.01)\n",
    "sensitivities = []\n",
    "especifities_1 = []\n",
    "\n",
    "# Assuming prob_df is your dataframe with probabilities and Y_test is your true labels\n",
    "for t in thresholds:\n",
    "    # Create prediction column based on threshold\n",
    "    prob_df[\"prediction\"] = np.where(prob_df[0] >= t, 1, 0)\n",
    "    prob_df[\"actual\"] = list(Y_test)\n",
    "    \n",
    "    # Compute confusion matrix\n",
    "    confusion_matrix = pd.crosstab(prob_df.prediction, prob_df.actual)\n",
    "\n",
    "    # Ensure that confusion_matrix contains both classes (0 and 1) for rows and columns\n",
    "    TN = confusion_matrix.loc[0, 0] if (0 in confusion_matrix.index and 0 in confusion_matrix.columns) else 0\n",
    "    TP = confusion_matrix.loc[1, 1] if (1 in confusion_matrix.index and 1 in confusion_matrix.columns) else 0\n",
    "    FP = confusion_matrix.loc[1, 0] if (1 in confusion_matrix.index and 0 in confusion_matrix.columns) else 0\n",
    "    FN = confusion_matrix.loc[0, 1] if (0 in confusion_matrix.index and 1 in confusion_matrix.columns) else 0\n",
    "    \n",
    "    # Calculate sensitivity (recall)\n",
    "    sens = TP / (TP + FN) if (TP + FN) > 0 else 0\n",
    "    sensitivities.append(sens)\n",
    "\n",
    "    # Calculate 1-specificity (false positive rate)\n",
    "    espc_1 = 1 - (TN / (TN + FP)) if (TN + FP) > 0 else 0\n",
    "    especifities_1.append(espc_1)"
   ]
  },
  {
   "cell_type": "code",
   "execution_count": 62,
   "id": "9201f2c0-ac6f-4168-9251-61a3086e9a55",
   "metadata": {},
   "outputs": [
    {
     "data": {
      "text/plain": [
       "Text(0.5, 1.0, 'Roc curve')"
      ]
     },
     "execution_count": 62,
     "metadata": {},
     "output_type": "execute_result"
    },
    {
     "data": {
      "image/png": "[encoded data removed]",
      "text/plain": [
       "<Figure size 640x480 with 1 Axes>"
      ]
     },
     "metadata": {},
     "output_type": "display_data"
    }
   ],
   "source": [
    "plt.plot(especifities_1, sensitivities, marker = \".\", linestyle=\"-\", color=\"r\")\n",
    "x=[i*0.01 for i in range(100)]\n",
    "y=[i*0.01 for i in range(100)]\n",
    "plt.plot(x,y)\n",
    "plt.xlabel(\"1-Especifity\")\n",
    "plt.ylabel(\"Sensibility\")\n",
    "plt.title(\"Roc curve\")"
   ]
  },
  {
   "cell_type": "code",
   "execution_count": 63,
   "id": "b8844908-b7f9-441e-8b36-fcd49ffc7cec",
   "metadata": {},
   "outputs": [
    {
     "name": "stdout",
     "output_type": "stream",
     "text": [
      "The best threshold that can be chosen is: 0.34\n"
     ]
    }
   ],
   "source": [
    "#Let's compute the best thresholds:\n",
    "from math import sqrt\n",
    "distances = []\n",
    "for i in range(len(sensitivities)):\n",
    "    sensi = sensitivities[i]\n",
    "    especi_1 = especifities_1[i]\n",
    "    distances.append(sqrt((1-sensi)**(2)+especi_1**(2)))\n",
    "index = distances.index(min(distances))\n",
    "best_threshold = thresholds[index]\n",
    "print(f\"The best threshold that can be chosen is: {best_threshold}\")"
   ]
  },
  {
   "cell_type": "code",
   "execution_count": 64,
   "id": "3559660d-c0b5-4cf3-935e-0626e35ae4f6",
   "metadata": {},
   "outputs": [
    {
     "name": "stdout",
     "output_type": "stream",
     "text": [
      "Using the a threshold = 0.34 our model has a precision of 0.8916666666666667\n"
     ]
    }
   ],
   "source": [
    "from sklearn.metrics import accuracy_score\n",
    "probs = lm.predict_proba(X_test)[:, 1]\n",
    "threshold = 0.34\n",
    "predictions = (probs >= threshold).astype(int)\n",
    "precision_personalised = accuracy_score(Y_test, predictions)\n",
    "print(f\"Using the a threshold = {threshold} our model has a precision of {precision_personalised}\") "
   ]
  },
  {
   "cell_type": "markdown",
   "id": "e6deb983-8150-4ee0-9470-b8fe5bf09da1",
   "metadata": {},
   "source": [
    "We have encreased the effectiveness of our model in compare to use a threshold of 0,5 that the precission was 0.8425"
   ]
  },
  {
   "cell_type": "code",
   "execution_count": 70,
   "id": "3032ec86-efeb-4ccb-8f1b-c21c997a64d0",
   "metadata": {},
   "outputs": [
    {
     "name": "stdout",
     "output_type": "stream",
     "text": [
      "[-6.10862845]\n",
      "['Age', 'EstimatedSalary', 'Gender_Female', 'Gender_Male']\n",
      "[[ 1.68939186e-01  2.53243172e-05 -3.01078563e+00 -2.83086517e+00]]\n"
     ]
    }
   ],
   "source": [
    "print(lm.intercept_)\n",
    "print(columns)\n",
    "print(lm.coef_)"
   ]
  },
  {
   "cell_type": "code",
   "execution_count": 75,
   "id": "f5940c75-9b25-41a4-9270-52dfbce0cb9a",
   "metadata": {},
   "outputs": [
    {
     "data": {
      "text/latex": [
       "$\\displaystyle Final\\;model:\\frac{1}{1 + e^{-(-6.1086 + 1.6893e-01 Age + 2.5324e-05 EstimatedSalary - 3.0108 Gender_Female - 2.8308 Gender_Male)}}$"
      ],
      "text/plain": [
       "<IPython.core.display.Math object>"
      ]
     },
     "metadata": {},
     "output_type": "display_data"
    },
    {
     "data": {
      "text/latex": [
       "$\\displaystyle Y_p=\\begin{cases}0& si\\ p\\leq0.34\\\\1&si\\ p >0.34\\end{cases}$"
      ],
      "text/plain": [
       "<IPython.core.display.Math object>"
      ]
     },
     "metadata": {},
     "output_type": "display_data"
    }
   ],
   "source": [
    "display(Math(r'Final\\;model:\\frac{1}{1 + e^{-(-6.1086 + 1.6893e-01 Age + 2.5324e-05 EstimatedSalary - 3.0108 Gender_Female - 2.8308 Gender_Male)}}'))\n",
    "display(Math(r'Y_p=\\begin{cases}0& si\\ p\\leq0.34\\\\1&si\\ p >0.34\\end{cases}'))"
   ]
  }
 ],
 "metadata": {
  "kernelspec": {
   "display_name": "Python 3 (ipykernel)",
   "language": "python",
   "name": "python3"
  },
  "language_info": {
   "codemirror_mode": {
    "name": "ipython",
    "version": 3
   },
   "file_extension": ".py",
   "mimetype": "text/x-python",
   "name": "python",
   "nbconvert_exporter": "python",
   "pygments_lexer": "ipython3",
   "version": "3.12.5"
  }
 },
 "nbformat": 4,
 "nbformat_minor": 5
}
